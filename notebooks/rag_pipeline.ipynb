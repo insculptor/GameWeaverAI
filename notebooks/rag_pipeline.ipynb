{
 "cells": [
  {
   "cell_type": "markdown",
   "metadata": {},
   "source": [
    "#### Import"
   ]
  },
  {
   "cell_type": "code",
   "execution_count": 1,
   "metadata": {},
   "outputs": [
    {
     "name": "stdout",
     "output_type": "stream",
     "text": [
      "Added c:\\Users\\erdrr\\OneDrive\\Desktop\\KB\\Projects\\GameWeaverAI to the Python path.\n"
     ]
    }
   ],
   "source": [
    "import sys\n",
    "import os\n",
    "from pathlib import Path\n",
    "\n",
    "# Add the Application root to Python path\n",
    "ROOT_PATH = os.path.abspath(os.path.join( os.getcwd(), '..'))\n",
    "sys.path.insert(0, ROOT_PATH)\n",
    "print(f\"Added {ROOT_PATH} to the Python path.\")"
   ]
  },
  {
   "cell_type": "code",
   "execution_count": 2,
   "metadata": {},
   "outputs": [
    {
     "name": "stderr",
     "output_type": "stream",
     "text": [
      "c:\\Users\\erdrr\\OneDrive\\Desktop\\KB\\Projects\\GameWeaverAI\\.venv\\Lib\\site-packages\\tqdm\\auto.py:21: TqdmWarning: IProgress not found. Please update jupyter and ipywidgets. See https://ipywidgets.readthedocs.io/en/stable/user_install.html\n",
      "  from .autonotebook import tqdm as notebook_tqdm\n"
     ]
    }
   ],
   "source": [
    "import os\n",
    "import PyPDF2\n",
    "import torch\n",
    "import json\n",
    "from src.models.models import HFModelsManager\n",
    "from langchain.text_splitter import RecursiveCharacterTextSplitter\n",
    "from chromadb import PersistentClient\n",
    "from dotenv import load_dotenv"
   ]
  },
  {
   "cell_type": "code",
   "execution_count": 3,
   "metadata": {},
   "outputs": [
    {
     "data": {
      "text/plain": [
       "True"
      ]
     },
     "execution_count": 3,
     "metadata": {},
     "output_type": "execute_result"
    }
   ],
   "source": [
    "# Load environment variables\n",
    "load_dotenv()"
   ]
  },
  {
   "cell_type": "markdown",
   "metadata": {},
   "source": [
    "### Setup Paths"
   ]
  },
  {
   "cell_type": "code",
   "execution_count": 4,
   "metadata": {},
   "outputs": [
    {
     "name": "stdout",
     "output_type": "stream",
     "text": [
      "MODELS_PATH: c:\\Users\\erdrr\\OneDrive\\Desktop\\KB\\Projects\\GameWeaverAI\\models | VECTORSTORE_PATH: c:\\Users\\erdrr\\OneDrive\\Desktop\\KB\\Projects\\GameWeaverAI\\vectorstore | DOCS_PATH: c:\\Users\\erdrr\\OneDrive\\Desktop\\KB\\Projects\\GameWeaverAI\\data/docs\n",
      "EMBEDDING_MODEL: dunzhang/stella_en_1.5B_v5\n",
      "COLLECTION_NAME: gameweaver_chroma_collection | COLLECTION_MAPPING_PATH: c:\\Users\\erdrr\\OneDrive\\Desktop\\KB\\Projects\\GameWeaverAI\\vectorstore\\gameweaver_chroma_collection.json\n",
      "CHUNK_SIZE: 300 | CHUNK_OVERLAP: 50\n"
     ]
    }
   ],
   "source": [
    "#Load Env Variables\n",
    "DOCS_PATH = os.path.join(ROOT_PATH,os.getenv(\"DOCS_PATH\"))  \n",
    "MODELS_PATH = os.path.join(ROOT_PATH,os.getenv(\"MODELS_BASE_DIR\"))\n",
    "VECTORSTORE_PATH = os.path.join(ROOT_PATH,os.getenv(\"VECTORSTORE_PATH\"))\n",
    "EMBEDDING_MODEL = os.getenv(\"EMBEDDING_MODEL\")\n",
    "COLLECTION_NAME = os.getenv(\"CHROMADB_COLLECTION\")\n",
    "COLLECTION_MAPPING_PATH = os.path.join(VECTORSTORE_PATH, f\"{COLLECTION_NAME}.json\")\n",
    "CHUNK_SIZE = os.getenv(\"CHUNK_SIZE\")\n",
    "CHUNK_OVERLAP = os.getenv(\"CHUNK_OVERLAP\")\n",
    "\n",
    "print(f\"MODELS_PATH: {MODELS_PATH} | VECTORSTORE_PATH: {VECTORSTORE_PATH} | DOCS_PATH: {DOCS_PATH}\")\n",
    "print(f\"EMBEDDING_MODEL: {EMBEDDING_MODEL}\")\n",
    "print(f\"COLLECTION_NAME: {COLLECTION_NAME} | COLLECTION_MAPPING_PATH: {COLLECTION_MAPPING_PATH}\")\n",
    "print(f\"CHUNK_SIZE: {CHUNK_SIZE} | CHUNK_OVERLAP: {CHUNK_OVERLAP}\")"
   ]
  },
  {
   "cell_type": "code",
   "execution_count": 5,
   "metadata": {},
   "outputs": [
    {
     "name": "stdout",
     "output_type": "stream",
     "text": [
      "The token has not been saved to the git credentials helper. Pass `add_to_git_credential=True` in this function directly or `--add-to-git-credential` if using via `huggingface-cli` if you want to set the git credential as well.\n",
      "Token is valid (permission: fineGrained).\n",
      "Your token has been saved to C:\\Users\\erdrr\\.cache\\huggingface\\token\n",
      "Login successful\n",
      "Connected to Huggingface\n"
     ]
    },
    {
     "name": "stderr",
     "output_type": "stream",
     "text": [
      "Fetching 41 files: 100%|██████████| 41/41 [00:00<00:00, 1439.56it/s]\n"
     ]
    },
    {
     "name": "stdout",
     "output_type": "stream",
     "text": [
      "Model 'dunzhang/stella_en_1.5B_v5' is available at C:\\Users\\erdrr\\OneDrive\\Desktop\\KB\\Projects\\gameweaverai\\models\\dunzhang\\stella_en_1.5B_v5\n",
      "Model and tokenizer for 'dunzhang/stella_en_1.5B_v5' initialized successfully.\n"
     ]
    }
   ],
   "source": [
    "# Initialize HFModelsManager\n",
    "hf_manager = HFModelsManager(EMBEDDING_MODEL, model_path=MODELS_PATH)\n",
    "model, tokenizer = hf_manager.initialize_model() "
   ]
  },
  {
   "cell_type": "code",
   "execution_count": 6,
   "metadata": {},
   "outputs": [],
   "source": [
    "def setup_chromadb():\n",
    "    \"\"\"Set up ChromaDB client with persistent storage.\"\"\"\n",
    "    client = PersistentClient(path=VECTORSTORE_PATH)\n",
    "    try:\n",
    "        collection = client.get_collection(COLLECTION_NAME)\n",
    "    except Exception:\n",
    "        collection = client.create_collection(COLLECTION_NAME)\n",
    "    return client, collection"
   ]
  },
  {
   "cell_type": "code",
   "execution_count": 7,
   "metadata": {},
   "outputs": [],
   "source": [
    "client , collection = setup_chromadb()"
   ]
  },
  {
   "cell_type": "code",
   "execution_count": 8,
   "metadata": {},
   "outputs": [],
   "source": [
    "def get_collection_mapping():\n",
    "    \"\"\"Reads the Collection Master Mapping file.\"\"\"\n",
    "    if os.path.exists(COLLECTION_MAPPING_PATH):\n",
    "        with open(COLLECTION_MAPPING_PATH, 'r') as f:\n",
    "            return json.load(f)\n",
    "    return []"
   ]
  },
  {
   "cell_type": "code",
   "execution_count": 9,
   "metadata": {},
   "outputs": [
    {
     "data": {
      "text/plain": [
       "[]"
      ]
     },
     "execution_count": 9,
     "metadata": {},
     "output_type": "execute_result"
    }
   ],
   "source": [
    "collection_mapping = get_collection_mapping()\n",
    "collection_mapping"
   ]
  },
  {
   "cell_type": "code",
   "execution_count": 11,
   "metadata": {},
   "outputs": [],
   "source": [
    "def write_collection_mapping(game_rules):\n",
    "    \"\"\"Writes the updated game rules to the game_rules.json file.\"\"\"\n",
    "    with open(COLLECTION_MAPPING_PATH, 'w') as f:\n",
    "        json.dump(game_rules, f, indent=4)"
   ]
  },
  {
   "cell_type": "code",
   "execution_count": 12,
   "metadata": {},
   "outputs": [],
   "source": [
    "def get_or_create_game_id(game_name):\n",
    "    \"\"\"Check if a game already exists in the collection mapping and return its ID, or create a new one.\"\"\"\n",
    "    collection_mapping = get_collection_mapping()\n",
    "\n",
    "    # Check if the game already exists in the JSON\n",
    "    for game in collection_mapping:\n",
    "        if game[\"Game Name\"] == game_name:\n",
    "            return game[\"ID\"], collection_mapping\n",
    "\n",
    "    # If game doesn't exist, create a new ID\n",
    "    new_id = len(collection_mapping) + 1\n",
    "    return new_id, collection_mapping"
   ]
  },
  {
   "cell_type": "code",
   "execution_count": 13,
   "metadata": {},
   "outputs": [],
   "source": [
    "def read_pdf_sections(file_path):\n",
    "    \"\"\"Reads a PDF file and extracts text into sections based on predefined headings.\"\"\"\n",
    "    sections = {}\n",
    "    with open(file_path, \"rb\") as file:\n",
    "        reader = PyPDF2.PdfReader(file)\n",
    "        text = \"\"\n",
    "        for page in reader.pages:\n",
    "            text += page.extract_text()\n",
    "    \n",
    "    # Split sections based on known section titles\n",
    "    section_titles = [\"Overview\", \"Game Setup\", \"How to Play\", \"Winning the Game\", \"Game Strategy\", \"End of Game\"]\n",
    "    current_section = None\n",
    "    for line in text.splitlines():\n",
    "        if any(title in line for title in section_titles):\n",
    "            current_section = line.strip()\n",
    "            sections[current_section] = []\n",
    "        elif current_section:\n",
    "            sections[current_section].append(line.strip())\n",
    "\n",
    "    # Join lines for each section\n",
    "    for section in sections:\n",
    "        sections[section] = \" \".join(sections[section])\n",
    "\n",
    "    return sections"
   ]
  },
  {
   "cell_type": "code",
   "execution_count": 14,
   "metadata": {},
   "outputs": [
    {
     "data": {
      "text/plain": [
       "{'Overview:': 'Tic-Tac-Toe is a simple, two -player game where the objective is to be the ﬁrst player to align three of your marks (either X or O) in a horizontal, vertical, or diagonal row on a 3x3 grid.',\n",
       " 'Game Setup:': '- The game is played on a 3x3 grid. - Player 1 uses the symbol \"X\" and Player 2 uses the symbol \"O\". - Players take turns placing their symbol in one of the empty squares on the grid. ',\n",
       " 'How to Play:': '1. The game starts with an empty 3x3 grid. 2. Player 1 (X) makes the ﬁrst move by placing their symbol in any of the 9 squares. 3. Player 2 (O) then places their symbol in one of the remaining empty squares. 4. Players continue to alternate turns until one player achieves a winning combination or the grid is full. ',\n",
       " 'Winning the Game:': '- A player wins by placing three of their symbols in a row, which can be: - Horizontally: Any of the three horizontal rows. - Vertically: Any of the three vertical columns. - Diagonally: Either of the two diagonal lines from corner to corner.  Draw: - The game is considered a draw if all 9 squares are ﬁlled and neither player has aligned three of their symbols in a row.',\n",
       " 'Game Strategy:': '- First Move:  The center square is often considered the best opening move for Player 1, as it provides the most opportunities to create a winning combination. - Blocking:  If your opponent is close to winning (e.g., they have two in a row), you should place your symbol in the empty square to block their move. - Forks:  Creating a situation where you have two potential winning moves on your next turn is a strong strategy, as it forces your opponent to block one, allowing you to win with the other. Advanced Tactics: - Double Fork:  A situation where you create two forks simultaneously, making it impossible for your opponent to block both. - Center Control:  Maintaining control of the center square often leads to more winning opportunities. ',\n",
       " 'End of Game:': '- The game ends when either a player wins or the grid is completely ﬁlled with no winner. - Players can choose to play multiple rounds and keep score of wins, losses, and draws. Multiplayer Mode: - In multiplayer mode, two human players alternate turns. - If playing against an AI, the AI will take over Player 2’s role and will make decisions based on predeﬁned strategies. Single Player Mode: - The player competes against an AI agent. - The AI agent’s diﬃculty can be adjusted to make it more challenging. Example Game: ``` |   | X | O | ----------- | X | O | X | O ----------- O |   | X ``` - In the above example, Player 1 (X) wins with a diagonal line.'}"
      ]
     },
     "execution_count": 14,
     "metadata": {},
     "output_type": "execute_result"
    }
   ],
   "source": [
    "data = read_pdf_sections(f\"{DOCS_PATH}/tic_tac_toe.pdf\")\n",
    "data"
   ]
  },
  {
   "cell_type": "code",
   "execution_count": 15,
   "metadata": {},
   "outputs": [],
   "source": [
    "def preprocess_and_split_sections(sections, chunk_size=50, chunk_overlap=5):\n",
    "    \"\"\"Splits sections into chunks using the RecursiveCharacterTextSplitter with specified chunk size and overlap.\"\"\"\n",
    "    chunks = {}\n",
    "    \n",
    "    # Define the text splitter with specified chunk size and overlap\n",
    "    text_splitter = RecursiveCharacterTextSplitter(\n",
    "        chunk_size=chunk_size,\n",
    "        chunk_overlap=chunk_overlap,\n",
    "        length_function=len  # Split purely based on character count\n",
    "    )\n",
    "    \n",
    "    for section_name, section_text in sections.items():\n",
    "        # Ensure that each section is split into chunks based on chunk_size and chunk_overlap\n",
    "        section_chunks = text_splitter.split_text(section_text)\n",
    "        \n",
    "        # Debugging output to verify if splitting works correctly\n",
    "        print(\"*\" * 100)\n",
    "        print(f\"Section Name: {section_name}\")\n",
    "        print(f\"Original Section Text Length: {len(section_text)}\")\n",
    "        print(f\"Section Text: {section_text}\")\n",
    "        print(f\"Section Chunks ({len(section_chunks)} chunks): {section_chunks}\")\n",
    "        print(\"*\" * 100)\n",
    "        \n",
    "        # Store the chunks by section name\n",
    "        chunks[section_name] = section_chunks\n",
    "    \n",
    "    return chunks"
   ]
  },
  {
   "cell_type": "code",
   "execution_count": 17,
   "metadata": {},
   "outputs": [
    {
     "name": "stdout",
     "output_type": "stream",
     "text": [
      "****************************************************************************************************\n",
      "Section Name: Overview\n",
      "Original Section Text Length: 189\n",
      "Section Text: Tic-Tac-Toe is a simple, two-player game where the objective is to be the first player to align three of your marks (either X or O) in a horizontal, vertical, or diagonal row on a 3x3 grid.\n",
      "Section Chunks (27 chunks): ['Tic-Tac-To', 'Toe', 'is a', 'a simple,', 'two-playe', 'yer', 'game', 'where the', 'objective', 'is to be', 'the first', 'player to', 'align', 'three of', 'your', 'marks', '(either X', 'X or O)', 'in a', 'horizonta', 'tal,', 'vertical,', 'or', 'diagonal', 'row on a', 'a 3x3', 'grid.']\n",
      "****************************************************************************************************\n",
      "Section: Overview\n",
      "Chunk 1: Tic-Tac-To\n",
      "Chunk 2: Toe\n",
      "Chunk 3: is a\n",
      "Chunk 4: a simple,\n",
      "Chunk 5: two-playe\n",
      "Chunk 6: yer\n",
      "Chunk 7: game\n",
      "Chunk 8: where the\n",
      "Chunk 9: objective\n",
      "Chunk 10: is to be\n",
      "Chunk 11: the first\n",
      "Chunk 12: player to\n",
      "Chunk 13: align\n",
      "Chunk 14: three of\n",
      "Chunk 15: your\n",
      "Chunk 16: marks\n",
      "Chunk 17: (either X\n",
      "Chunk 18: X or O)\n",
      "Chunk 19: in a\n",
      "Chunk 20: horizonta\n",
      "Chunk 21: tal,\n",
      "Chunk 22: vertical,\n",
      "Chunk 23: or\n",
      "Chunk 24: diagonal\n",
      "Chunk 25: row on a\n",
      "Chunk 26: a 3x3\n",
      "Chunk 27: grid.\n"
     ]
    }
   ],
   "source": [
    "sections = {\n",
    "    \"Overview\": \"Tic-Tac-Toe is a simple, two-player game where the objective is to be the first player to align three of your marks (either X or O) in a horizontal, vertical, or diagonal row on a 3x3 grid.\"\n",
    "}\n",
    "\n",
    "chunks = preprocess_and_split_sections(sections, chunk_size=10, chunk_overlap=2)\n",
    "\n",
    "# Print the chunks for the \"Overview\" section\n",
    "for section_name, section_chunks in chunks.items():\n",
    "    print(f\"Section: {section_name}\")\n",
    "    for i, chunk in enumerate(section_chunks):\n",
    "        print(f\"Chunk {i + 1}: {chunk}\")"
   ]
  },
  {
   "cell_type": "code",
   "execution_count": 18,
   "metadata": {},
   "outputs": [],
   "source": [
    "def create_embeddings(chunks):\n",
    "    \"\"\"Creates embeddings for the text chunks using the HF model.\"\"\"\n",
    "    embeddings = {}\n",
    "    for section_name, chunk_list in chunks.items():\n",
    "        embeddings[section_name] = []\n",
    "        for chunk in chunk_list:\n",
    "            inputs = tokenizer(chunk, return_tensors=\"pt\", truncation=True, padding=True, max_length=512)\n",
    "            with torch.no_grad():\n",
    "                outputs = model(**inputs)\n",
    "                embedding = torch.mean(outputs.last_hidden_state, dim=1).squeeze().numpy()\n",
    "                embeddings[section_name].append(embedding)\n",
    "    return embeddings"
   ]
  },
  {
   "cell_type": "code",
   "execution_count": 20,
   "metadata": {},
   "outputs": [],
   "source": [
    "def ingest_document(file_path):\n",
    "    \"\"\"Ingests each section of the PDF as separate documents with embeddings into ChromaDB.\"\"\"\n",
    "    # Get the game ID (either existing or new)\n",
    "    game_name = os.path.basename(file_path).replace(\".pdf\", \"\")\n",
    "    game_id, game_rules = get_or_create_game_id(game_name)\n",
    "    \n",
    "    # Read sections from the PDF\n",
    "    sections = read_pdf_sections(file_path)\n",
    "    \n",
    "    # Preprocess and split each section into chunks of size 300\n",
    "    chunks = preprocess_and_split_sections(sections, chunk_size=300, chunk_overlap=50)\n",
    "    \n",
    "    # Create embeddings for the chunks\n",
    "    embeddings = create_embeddings(chunks)\n",
    "    \n",
    "    # Ingest each chunk with metadata\n",
    "    for section_name, chunk_list in chunks.items():\n",
    "        # Get the full section text\n",
    "        full_section_text = sections[section_name]\n",
    "\n",
    "        for i, chunk in enumerate(chunk_list):\n",
    "            # Create a custom document ID in the format game_name_section_name_chunk_id\n",
    "            document_id = f\"{game_name}_{section_name.replace(' ', '_')}_{i}\"\n",
    "            \n",
    "            print(f\"Ingesting document {document_id}...\")\n",
    "            print(f\"Full Section Text: {full_section_text}\")\n",
    "            print(f\"Chunk Text: {chunk}\")\n",
    "            print(f\"Embedding: {embeddings[section_name][i]}\")\n",
    "            print(f\"Metadata: {game_id}, {game_name}, {section_name}\")\n",
    "            \n",
    "            # Store both the full section text and individual chunk text\n",
    "            document_metadata = {\n",
    "                \"Game_ID\": str(game_id),\n",
    "                \"Game_Name\": game_name,\n",
    "                \"Section_name\": section_name,\n",
    "                \"Text\": full_section_text,  # Store the entire section text once\n",
    "                \"Chunk_Text\": chunk  # Store the chunk text here\n",
    "            }\n",
    "\n",
    "            # Upsert the document into ChromaDB\n",
    "            collection.upsert(\n",
    "                ids=[document_id],\n",
    "                documents=[chunk],  # Store the chunk text in the document\n",
    "                embeddings=[embeddings[section_name][i].tolist()],  # Store embeddings separately\n",
    "                metadatas=[document_metadata]  # Metadata with the complete section text and chunk text\n",
    "            )\n",
    "    \n",
    "    # Update the JSON file if it's a new game\n",
    "    if not any(rule[\"Game Name\"] == game_name for rule in game_rules):\n",
    "        game_rules.append({\"ID\": game_id, \"Game Name\": game_name})\n",
    "        write_collection_mapping(game_rules)"
   ]
  },
  {
   "cell_type": "code",
   "execution_count": 21,
   "metadata": {},
   "outputs": [
    {
     "name": "stderr",
     "output_type": "stream",
     "text": [
      "We detected that you are passing `past_key_values` as a tuple and this is deprecated and will be removed in v4.43. Please use an appropriate `Cache` class (https://huggingface.co/docs/transformers/v4.41.3/en/internal/generation_utils#transformers.Cache)\n"
     ]
    },
    {
     "name": "stdout",
     "output_type": "stream",
     "text": [
      "****************************************************************************************************\n",
      "Section Name: Overview:\n",
      "Original Section Text Length: 189\n",
      "Section Text: Tic-Tac-Toe is a simple, two -player game where the objective is to be the ﬁrst player to align three of your marks (either X or O) in a horizontal, vertical, or diagonal row on a 3x3 grid.\n",
      "Section Chunks (1 chunks): ['Tic-Tac-Toe is a simple, two -player game where the objective is to be the ﬁrst player to align three of your marks (either X or O) in a horizontal, vertical, or diagonal row on a 3x3 grid.']\n",
      "****************************************************************************************************\n",
      "****************************************************************************************************\n",
      "Section Name: Game Setup:\n",
      "Original Section Text Length: 184\n",
      "Section Text: - The game is played on a 3x3 grid. - Player 1 uses the symbol \"X\" and Player 2 uses the symbol \"O\". - Players take turns placing their symbol in one of the empty squares on the grid. \n",
      "Section Chunks (1 chunks): ['- The game is played on a 3x3 grid. - Player 1 uses the symbol \"X\" and Player 2 uses the symbol \"O\". - Players take turns placing their symbol in one of the empty squares on the grid.']\n",
      "****************************************************************************************************\n",
      "****************************************************************************************************\n",
      "Section Name: How to Play:\n",
      "Original Section Text Length: 316\n",
      "Section Text: 1. The game starts with an empty 3x3 grid. 2. Player 1 (X) makes the ﬁrst move by placing their symbol in any of the 9 squares. 3. Player 2 (O) then places their symbol in one of the remaining empty squares. 4. Players continue to alternate turns until one player achieves a winning combination or the grid is full. \n",
      "Section Chunks (2 chunks): ['1. The game starts with an empty 3x3 grid. 2. Player 1 (X) makes the ﬁrst move by placing their symbol in any of the 9 squares. 3. Player 2 (O) then places their symbol in one of the remaining empty squares. 4. Players continue to alternate turns until one player achieves a winning combination or', 'one player achieves a winning combination or the grid is full.']\n",
      "****************************************************************************************************\n",
      "****************************************************************************************************\n",
      "Section Name: Winning the Game:\n",
      "Original Section Text Length: 372\n",
      "Section Text: - A player wins by placing three of their symbols in a row, which can be: - Horizontally: Any of the three horizontal rows. - Vertically: Any of the three vertical columns. - Diagonally: Either of the two diagonal lines from corner to corner.  Draw: - The game is considered a draw if all 9 squares are ﬁlled and neither player has aligned three of their symbols in a row.\n",
      "Section Chunks (2 chunks): ['- A player wins by placing three of their symbols in a row, which can be: - Horizontally: Any of the three horizontal rows. - Vertically: Any of the three vertical columns. - Diagonally: Either of the two diagonal lines from corner to corner.  Draw: - The game is considered a draw if all 9 squares', '- The game is considered a draw if all 9 squares are ﬁlled and neither player has aligned three of their symbols in a row.']\n",
      "****************************************************************************************************\n",
      "****************************************************************************************************\n",
      "Section Name: Game Strategy:\n",
      "Original Section Text Length: 749\n",
      "Section Text: - First Move:  The center square is often considered the best opening move for Player 1, as it provides the most opportunities to create a winning combination. - Blocking:  If your opponent is close to winning (e.g., they have two in a row), you should place your symbol in the empty square to block their move. - Forks:  Creating a situation where you have two potential winning moves on your next turn is a strong strategy, as it forces your opponent to block one, allowing you to win with the other. Advanced Tactics: - Double Fork:  A situation where you create two forks simultaneously, making it impossible for your opponent to block both. - Center Control:  Maintaining control of the center square often leads to more winning opportunities. \n",
      "Section Chunks (3 chunks): ['- First Move:  The center square is often considered the best opening move for Player 1, as it provides the most opportunities to create a winning combination. - Blocking:  If your opponent is close to winning (e.g., they have two in a row), you should place your symbol in the empty square to block', 'place your symbol in the empty square to block their move. - Forks:  Creating a situation where you have two potential winning moves on your next turn is a strong strategy, as it forces your opponent to block one, allowing you to win with the other. Advanced Tactics: - Double Fork:  A situation', 'Advanced Tactics: - Double Fork:  A situation where you create two forks simultaneously, making it impossible for your opponent to block both. - Center Control:  Maintaining control of the center square often leads to more winning opportunities.']\n",
      "****************************************************************************************************\n",
      "****************************************************************************************************\n",
      "Section Name: End of Game:\n",
      "Original Section Text Length: 658\n",
      "Section Text: - The game ends when either a player wins or the grid is completely ﬁlled with no winner. - Players can choose to play multiple rounds and keep score of wins, losses, and draws. Multiplayer Mode: - In multiplayer mode, two human players alternate turns. - If playing against an AI, the AI will take over Player 2’s role and will make decisions based on predeﬁned strategies. Single Player Mode: - The player competes against an AI agent. - The AI agent’s diﬃculty can be adjusted to make it more challenging. Example Game: ``` |   | X | O | ----------- | X | O | X | O ----------- O |   | X ``` - In the above example, Player 1 (X) wins with a diagonal line.\n",
      "Section Chunks (3 chunks): ['- The game ends when either a player wins or the grid is completely ﬁlled with no winner. - Players can choose to play multiple rounds and keep score of wins, losses, and draws. Multiplayer Mode: - In multiplayer mode, two human players alternate turns. - If playing against an AI, the AI will take', '- If playing against an AI, the AI will take over Player 2’s role and will make decisions based on predeﬁned strategies. Single Player Mode: - The player competes against an AI agent. - The AI agent’s diﬃculty can be adjusted to make it more challenging. Example Game: ``` |   | X | O | -----------', 'Example Game: ``` |   | X | O | ----------- | X | O | X | O ----------- O |   | X ``` - In the above example, Player 1 (X) wins with a diagonal line.']\n",
      "****************************************************************************************************\n",
      "Ingesting document tic_tac_toe_Overview:_0...\n",
      "Full Section Text: Tic-Tac-Toe is a simple, two -player game where the objective is to be the ﬁrst player to align three of your marks (either X or O) in a horizontal, vertical, or diagonal row on a 3x3 grid.\n",
      "Chunk Text: Tic-Tac-Toe is a simple, two -player game where the objective is to be the ﬁrst player to align three of your marks (either X or O) in a horizontal, vertical, or diagonal row on a 3x3 grid.\n",
      "Embedding: [ 0.10443199 -0.01018365  0.04344949 ... -0.20899968 -0.06599189\n",
      "  0.2508515 ]\n",
      "Metadata: 1, tic_tac_toe, Overview:\n",
      "Ingesting document tic_tac_toe_Game_Setup:_0...\n",
      "Full Section Text: - The game is played on a 3x3 grid. - Player 1 uses the symbol \"X\" and Player 2 uses the symbol \"O\". - Players take turns placing their symbol in one of the empty squares on the grid. \n",
      "Chunk Text: - The game is played on a 3x3 grid. - Player 1 uses the symbol \"X\" and Player 2 uses the symbol \"O\". - Players take turns placing their symbol in one of the empty squares on the grid.\n",
      "Embedding: [ 0.73467875  0.2084485   0.3152916  ... -0.05565053 -0.14789334\n",
      "  0.0873021 ]\n",
      "Metadata: 1, tic_tac_toe, Game Setup:\n",
      "Ingesting document tic_tac_toe_How_to_Play:_0...\n",
      "Full Section Text: 1. The game starts with an empty 3x3 grid. 2. Player 1 (X) makes the ﬁrst move by placing their symbol in any of the 9 squares. 3. Player 2 (O) then places their symbol in one of the remaining empty squares. 4. Players continue to alternate turns until one player achieves a winning combination or the grid is full. \n",
      "Chunk Text: 1. The game starts with an empty 3x3 grid. 2. Player 1 (X) makes the ﬁrst move by placing their symbol in any of the 9 squares. 3. Player 2 (O) then places their symbol in one of the remaining empty squares. 4. Players continue to alternate turns until one player achieves a winning combination or\n",
      "Embedding: [ 0.70781285 -0.13772841 -0.00551014 ... -0.4081494  -0.00244433\n",
      "  0.4869633 ]\n",
      "Metadata: 1, tic_tac_toe, How to Play:\n",
      "Ingesting document tic_tac_toe_How_to_Play:_1...\n",
      "Full Section Text: 1. The game starts with an empty 3x3 grid. 2. Player 1 (X) makes the ﬁrst move by placing their symbol in any of the 9 squares. 3. Player 2 (O) then places their symbol in one of the remaining empty squares. 4. Players continue to alternate turns until one player achieves a winning combination or the grid is full. \n",
      "Chunk Text: one player achieves a winning combination or the grid is full.\n",
      "Embedding: [-0.13133389  0.44010508  0.05897402 ...  0.2838726   0.16726582\n",
      " -0.17041834]\n",
      "Metadata: 1, tic_tac_toe, How to Play:\n",
      "Ingesting document tic_tac_toe_Winning_the_Game:_0...\n",
      "Full Section Text: - A player wins by placing three of their symbols in a row, which can be: - Horizontally: Any of the three horizontal rows. - Vertically: Any of the three vertical columns. - Diagonally: Either of the two diagonal lines from corner to corner.  Draw: - The game is considered a draw if all 9 squares are ﬁlled and neither player has aligned three of their symbols in a row.\n",
      "Chunk Text: - A player wins by placing three of their symbols in a row, which can be: - Horizontally: Any of the three horizontal rows. - Vertically: Any of the three vertical columns. - Diagonally: Either of the two diagonal lines from corner to corner.  Draw: - The game is considered a draw if all 9 squares\n",
      "Embedding: [ 0.32754615 -0.14923367 -0.34093922 ...  0.4903559   0.11719187\n",
      "  0.26499066]\n",
      "Metadata: 1, tic_tac_toe, Winning the Game:\n",
      "Ingesting document tic_tac_toe_Winning_the_Game:_1...\n",
      "Full Section Text: - A player wins by placing three of their symbols in a row, which can be: - Horizontally: Any of the three horizontal rows. - Vertically: Any of the three vertical columns. - Diagonally: Either of the two diagonal lines from corner to corner.  Draw: - The game is considered a draw if all 9 squares are ﬁlled and neither player has aligned three of their symbols in a row.\n",
      "Chunk Text: - The game is considered a draw if all 9 squares are ﬁlled and neither player has aligned three of their symbols in a row.\n",
      "Embedding: [ 0.4950499   0.07304544  0.05180891 ...  0.2661468  -0.0987169\n",
      "  0.06663159]\n",
      "Metadata: 1, tic_tac_toe, Winning the Game:\n",
      "Ingesting document tic_tac_toe_Game_Strategy:_0...\n",
      "Full Section Text: - First Move:  The center square is often considered the best opening move for Player 1, as it provides the most opportunities to create a winning combination. - Blocking:  If your opponent is close to winning (e.g., they have two in a row), you should place your symbol in the empty square to block their move. - Forks:  Creating a situation where you have two potential winning moves on your next turn is a strong strategy, as it forces your opponent to block one, allowing you to win with the other. Advanced Tactics: - Double Fork:  A situation where you create two forks simultaneously, making it impossible for your opponent to block both. - Center Control:  Maintaining control of the center square often leads to more winning opportunities. \n",
      "Chunk Text: - First Move:  The center square is often considered the best opening move for Player 1, as it provides the most opportunities to create a winning combination. - Blocking:  If your opponent is close to winning (e.g., they have two in a row), you should place your symbol in the empty square to block\n",
      "Embedding: [-0.04983799 -0.04182073  0.21211097 ...  0.04120107  0.14505167\n",
      "  0.21002173]\n",
      "Metadata: 1, tic_tac_toe, Game Strategy:\n",
      "Ingesting document tic_tac_toe_Game_Strategy:_1...\n",
      "Full Section Text: - First Move:  The center square is often considered the best opening move for Player 1, as it provides the most opportunities to create a winning combination. - Blocking:  If your opponent is close to winning (e.g., they have two in a row), you should place your symbol in the empty square to block their move. - Forks:  Creating a situation where you have two potential winning moves on your next turn is a strong strategy, as it forces your opponent to block one, allowing you to win with the other. Advanced Tactics: - Double Fork:  A situation where you create two forks simultaneously, making it impossible for your opponent to block both. - Center Control:  Maintaining control of the center square often leads to more winning opportunities. \n",
      "Chunk Text: place your symbol in the empty square to block their move. - Forks:  Creating a situation where you have two potential winning moves on your next turn is a strong strategy, as it forces your opponent to block one, allowing you to win with the other. Advanced Tactics: - Double Fork:  A situation\n",
      "Embedding: [-0.07853861  0.01715837  0.17400435 ... -0.16489188  0.33237383\n",
      "  0.04415271]\n",
      "Metadata: 1, tic_tac_toe, Game Strategy:\n",
      "Ingesting document tic_tac_toe_Game_Strategy:_2...\n",
      "Full Section Text: - First Move:  The center square is often considered the best opening move for Player 1, as it provides the most opportunities to create a winning combination. - Blocking:  If your opponent is close to winning (e.g., they have two in a row), you should place your symbol in the empty square to block their move. - Forks:  Creating a situation where you have two potential winning moves on your next turn is a strong strategy, as it forces your opponent to block one, allowing you to win with the other. Advanced Tactics: - Double Fork:  A situation where you create two forks simultaneously, making it impossible for your opponent to block both. - Center Control:  Maintaining control of the center square often leads to more winning opportunities. \n",
      "Chunk Text: Advanced Tactics: - Double Fork:  A situation where you create two forks simultaneously, making it impossible for your opponent to block both. - Center Control:  Maintaining control of the center square often leads to more winning opportunities.\n",
      "Embedding: [-0.26620868 -0.17810181  0.35933506 ... -0.04912636 -0.16455778\n",
      "  0.03820503]\n",
      "Metadata: 1, tic_tac_toe, Game Strategy:\n",
      "Ingesting document tic_tac_toe_End_of_Game:_0...\n",
      "Full Section Text: - The game ends when either a player wins or the grid is completely ﬁlled with no winner. - Players can choose to play multiple rounds and keep score of wins, losses, and draws. Multiplayer Mode: - In multiplayer mode, two human players alternate turns. - If playing against an AI, the AI will take over Player 2’s role and will make decisions based on predeﬁned strategies. Single Player Mode: - The player competes against an AI agent. - The AI agent’s diﬃculty can be adjusted to make it more challenging. Example Game: ``` |   | X | O | ----------- | X | O | X | O ----------- O |   | X ``` - In the above example, Player 1 (X) wins with a diagonal line.\n",
      "Chunk Text: - The game ends when either a player wins or the grid is completely ﬁlled with no winner. - Players can choose to play multiple rounds and keep score of wins, losses, and draws. Multiplayer Mode: - In multiplayer mode, two human players alternate turns. - If playing against an AI, the AI will take\n",
      "Embedding: [-0.04396894 -0.1012022  -0.10001875 ... -0.09246197  0.06868862\n",
      " -0.0119612 ]\n",
      "Metadata: 1, tic_tac_toe, End of Game:\n",
      "Ingesting document tic_tac_toe_End_of_Game:_1...\n",
      "Full Section Text: - The game ends when either a player wins or the grid is completely ﬁlled with no winner. - Players can choose to play multiple rounds and keep score of wins, losses, and draws. Multiplayer Mode: - In multiplayer mode, two human players alternate turns. - If playing against an AI, the AI will take over Player 2’s role and will make decisions based on predeﬁned strategies. Single Player Mode: - The player competes against an AI agent. - The AI agent’s diﬃculty can be adjusted to make it more challenging. Example Game: ``` |   | X | O | ----------- | X | O | X | O ----------- O |   | X ``` - In the above example, Player 1 (X) wins with a diagonal line.\n",
      "Chunk Text: - If playing against an AI, the AI will take over Player 2’s role and will make decisions based on predeﬁned strategies. Single Player Mode: - The player competes against an AI agent. - The AI agent’s diﬃculty can be adjusted to make it more challenging. Example Game: ``` |   | X | O | -----------\n",
      "Embedding: [-0.40204903 -0.6308592  -0.0809984  ...  0.10580733  0.25542158\n",
      " -0.30338845]\n",
      "Metadata: 1, tic_tac_toe, End of Game:\n",
      "Ingesting document tic_tac_toe_End_of_Game:_2...\n",
      "Full Section Text: - The game ends when either a player wins or the grid is completely ﬁlled with no winner. - Players can choose to play multiple rounds and keep score of wins, losses, and draws. Multiplayer Mode: - In multiplayer mode, two human players alternate turns. - If playing against an AI, the AI will take over Player 2’s role and will make decisions based on predeﬁned strategies. Single Player Mode: - The player competes against an AI agent. - The AI agent’s diﬃculty can be adjusted to make it more challenging. Example Game: ``` |   | X | O | ----------- | X | O | X | O ----------- O |   | X ``` - In the above example, Player 1 (X) wins with a diagonal line.\n",
      "Chunk Text: Example Game: ``` |   | X | O | ----------- | X | O | X | O ----------- O |   | X ``` - In the above example, Player 1 (X) wins with a diagonal line.\n",
      "Embedding: [ 0.3693902   0.12097193  0.40179718 ...  0.21079396 -0.5289904\n",
      "  0.23984481]\n",
      "Metadata: 1, tic_tac_toe, End of Game:\n"
     ]
    }
   ],
   "source": [
    "file_path = f\"{DOCS_PATH}/tic_tac_toe.pdf\"\n",
    "ingest_document(file_path)"
   ]
  },
  {
   "cell_type": "code",
   "execution_count": null,
   "metadata": {},
   "outputs": [],
   "source": [
    "game_rules = get_collection_mapping()"
   ]
  },
  {
   "cell_type": "code",
   "execution_count": 22,
   "metadata": {},
   "outputs": [],
   "source": [
    "def fetch_document_metadata(game_id):\n",
    "    \"\"\"Fetches all metadata and chunks related to a specific game ID from ChromaDB.\"\"\"\n",
    "    # Load the game rules JSON to find the corresponding GAME_NAME for the given game_id\n",
    "    game_rules = get_collection_mapping()\n",
    "\n",
    "    # Find the game entry with the specified ID\n",
    "    game_entry = next((rule for rule in game_rules if str(rule[\"ID\"]) == str(game_id)), None)\n",
    "    \n",
    "    if not game_entry:\n",
    "        print(f\"No game found with ID: {game_id}\")\n",
    "        return None\n",
    "\n",
    "    # Get the GAME_NAME from the entry\n",
    "    game_name = game_entry[\"Game Name\"]\n",
    "    \n",
    "    # Set up the ChromaDB collection\n",
    "    client, collection = setup_chromadb()\n",
    "\n",
    "    # Fetch all documents from the collection\n",
    "    try:\n",
    "        all_documents = collection.get()  # Fetch all documents\n",
    "    except Exception as e:\n",
    "        print(f\"Error fetching documents from ChromaDB: {e}\")\n",
    "        return None\n",
    "\n",
    "    if not all_documents:\n",
    "        print(f\"No documents retrieved from ChromaDB for Game_Name: {game_name}\")\n",
    "        return None\n",
    "\n",
    "    # Initialize the response dictionary\n",
    "    response = {\n",
    "        \"ID\": game_id,\n",
    "        \"Game_Name\": game_name,\n",
    "        \"Chunks\": {}\n",
    "    }\n",
    "\n",
    "    # Filter the documents whose IDs start with the format 'GAME_NAME_'\n",
    "    search_pattern = f\"{game_name}_\"\n",
    "    \n",
    "    if all_documents.get(\"ids\") and all_documents.get(\"metadatas\"):\n",
    "        for i, chunk_id in enumerate(all_documents[\"ids\"]):\n",
    "            if chunk_id.startswith(search_pattern):  # Filter by IDs starting with GAME_NAME_\n",
    "                section_name = all_documents[\"metadatas\"][i].get(\"Section_name\", \"Unknown Section\")\n",
    "                chunk_text = all_documents[\"metadatas\"][i].get(\"Chunk_Text\", \"No Chunk Available\")\n",
    "                full_text = all_documents[\"metadatas\"][i].get(\"Text\", \"No Full Text Available\")\n",
    "\n",
    "                # Group chunks under the same section and store the complete text once\n",
    "                if chunk_id not in response[\"Chunks\"]:\n",
    "                    response[\"Chunks\"][chunk_id] = {\n",
    "                        \"Section_name\": section_name,\n",
    "                        \"Text\": full_text,  # Complete section text\n",
    "                        \"Chunk_Text\": [chunk_text]  # List of chunk texts\n",
    "                    }\n",
    "                else:\n",
    "                    response[\"Chunks\"][chunk_id][\"Chunk_Text\"].append(chunk_text)\n",
    "\n",
    "    return response\n"
   ]
  },
  {
   "cell_type": "code",
   "execution_count": 23,
   "metadata": {},
   "outputs": [],
   "source": [
    "meta_data = fetch_document_metadata(1)"
   ]
  },
  {
   "cell_type": "code",
   "execution_count": 25,
   "metadata": {},
   "outputs": [
    {
     "data": {
      "text/plain": [
       "{'ID': 1,\n",
       " 'Game_Name': 'tic_tac_toe',\n",
       " 'Chunks': {'tic_tac_toe_End_of_Game:_0': {'Section_name': 'End of Game:',\n",
       "   'Text': '- The game ends when either a player wins or the grid is completely ﬁlled with no winner. - Players can choose to play multiple rounds and keep score of wins, losses, and draws. Multiplayer Mode: - In multiplayer mode, two human players alternate turns. - If playing against an AI, the AI will take over Player 2’s role and will make decisions based on predeﬁned strategies. Single Player Mode: - The player competes against an AI agent. - The AI agent’s diﬃculty can be adjusted to make it more challenging. Example Game: ``` |   | X | O | ----------- | X | O | X | O ----------- O |   | X ``` - In the above example, Player 1 (X) wins with a diagonal line.',\n",
       "   'Chunk_Text': ['- The game ends when either a player wins or the grid is completely ﬁlled with no winner. - Players can choose to play multiple rounds and keep score of wins, losses, and draws. Multiplayer Mode: - In multiplayer mode, two human players alternate turns. - If playing against an AI, the AI will take']},\n",
       "  'tic_tac_toe_End_of_Game:_1': {'Section_name': 'End of Game:',\n",
       "   'Text': '- The game ends when either a player wins or the grid is completely ﬁlled with no winner. - Players can choose to play multiple rounds and keep score of wins, losses, and draws. Multiplayer Mode: - In multiplayer mode, two human players alternate turns. - If playing against an AI, the AI will take over Player 2’s role and will make decisions based on predeﬁned strategies. Single Player Mode: - The player competes against an AI agent. - The AI agent’s diﬃculty can be adjusted to make it more challenging. Example Game: ``` |   | X | O | ----------- | X | O | X | O ----------- O |   | X ``` - In the above example, Player 1 (X) wins with a diagonal line.',\n",
       "   'Chunk_Text': ['- If playing against an AI, the AI will take over Player 2’s role and will make decisions based on predeﬁned strategies. Single Player Mode: - The player competes against an AI agent. - The AI agent’s diﬃculty can be adjusted to make it more challenging. Example Game: ``` |   | X | O | -----------']},\n",
       "  'tic_tac_toe_End_of_Game:_2': {'Section_name': 'End of Game:',\n",
       "   'Text': '- The game ends when either a player wins or the grid is completely ﬁlled with no winner. - Players can choose to play multiple rounds and keep score of wins, losses, and draws. Multiplayer Mode: - In multiplayer mode, two human players alternate turns. - If playing against an AI, the AI will take over Player 2’s role and will make decisions based on predeﬁned strategies. Single Player Mode: - The player competes against an AI agent. - The AI agent’s diﬃculty can be adjusted to make it more challenging. Example Game: ``` |   | X | O | ----------- | X | O | X | O ----------- O |   | X ``` - In the above example, Player 1 (X) wins with a diagonal line.',\n",
       "   'Chunk_Text': ['Example Game: ``` |   | X | O | ----------- | X | O | X | O ----------- O |   | X ``` - In the above example, Player 1 (X) wins with a diagonal line.']},\n",
       "  'tic_tac_toe_Game_Setup:_0': {'Section_name': 'Game Setup:',\n",
       "   'Text': '- The game is played on a 3x3 grid. - Player 1 uses the symbol \"X\" and Player 2 uses the symbol \"O\". - Players take turns placing their symbol in one of the empty squares on the grid. ',\n",
       "   'Chunk_Text': ['- The game is played on a 3x3 grid. - Player 1 uses the symbol \"X\" and Player 2 uses the symbol \"O\". - Players take turns placing their symbol in one of the empty squares on the grid.']},\n",
       "  'tic_tac_toe_Game_Strategy:_0': {'Section_name': 'Game Strategy:',\n",
       "   'Text': '- First Move:  The center square is often considered the best opening move for Player 1, as it provides the most opportunities to create a winning combination. - Blocking:  If your opponent is close to winning (e.g., they have two in a row), you should place your symbol in the empty square to block their move. - Forks:  Creating a situation where you have two potential winning moves on your next turn is a strong strategy, as it forces your opponent to block one, allowing you to win with the other. Advanced Tactics: - Double Fork:  A situation where you create two forks simultaneously, making it impossible for your opponent to block both. - Center Control:  Maintaining control of the center square often leads to more winning opportunities. ',\n",
       "   'Chunk_Text': ['- First Move:  The center square is often considered the best opening move for Player 1, as it provides the most opportunities to create a winning combination. - Blocking:  If your opponent is close to winning (e.g., they have two in a row), you should place your symbol in the empty square to block']},\n",
       "  'tic_tac_toe_Game_Strategy:_1': {'Section_name': 'Game Strategy:',\n",
       "   'Text': '- First Move:  The center square is often considered the best opening move for Player 1, as it provides the most opportunities to create a winning combination. - Blocking:  If your opponent is close to winning (e.g., they have two in a row), you should place your symbol in the empty square to block their move. - Forks:  Creating a situation where you have two potential winning moves on your next turn is a strong strategy, as it forces your opponent to block one, allowing you to win with the other. Advanced Tactics: - Double Fork:  A situation where you create two forks simultaneously, making it impossible for your opponent to block both. - Center Control:  Maintaining control of the center square often leads to more winning opportunities. ',\n",
       "   'Chunk_Text': ['place your symbol in the empty square to block their move. - Forks:  Creating a situation where you have two potential winning moves on your next turn is a strong strategy, as it forces your opponent to block one, allowing you to win with the other. Advanced Tactics: - Double Fork:  A situation']},\n",
       "  'tic_tac_toe_Game_Strategy:_2': {'Section_name': 'Game Strategy:',\n",
       "   'Text': '- First Move:  The center square is often considered the best opening move for Player 1, as it provides the most opportunities to create a winning combination. - Blocking:  If your opponent is close to winning (e.g., they have two in a row), you should place your symbol in the empty square to block their move. - Forks:  Creating a situation where you have two potential winning moves on your next turn is a strong strategy, as it forces your opponent to block one, allowing you to win with the other. Advanced Tactics: - Double Fork:  A situation where you create two forks simultaneously, making it impossible for your opponent to block both. - Center Control:  Maintaining control of the center square often leads to more winning opportunities. ',\n",
       "   'Chunk_Text': ['Advanced Tactics: - Double Fork:  A situation where you create two forks simultaneously, making it impossible for your opponent to block both. - Center Control:  Maintaining control of the center square often leads to more winning opportunities.']},\n",
       "  'tic_tac_toe_How_to_Play:_0': {'Section_name': 'How to Play:',\n",
       "   'Text': '1. The game starts with an empty 3x3 grid. 2. Player 1 (X) makes the ﬁrst move by placing their symbol in any of the 9 squares. 3. Player 2 (O) then places their symbol in one of the remaining empty squares. 4. Players continue to alternate turns until one player achieves a winning combination or the grid is full. ',\n",
       "   'Chunk_Text': ['1. The game starts with an empty 3x3 grid. 2. Player 1 (X) makes the ﬁrst move by placing their symbol in any of the 9 squares. 3. Player 2 (O) then places their symbol in one of the remaining empty squares. 4. Players continue to alternate turns until one player achieves a winning combination or']},\n",
       "  'tic_tac_toe_How_to_Play:_1': {'Section_name': 'How to Play:',\n",
       "   'Text': '1. The game starts with an empty 3x3 grid. 2. Player 1 (X) makes the ﬁrst move by placing their symbol in any of the 9 squares. 3. Player 2 (O) then places their symbol in one of the remaining empty squares. 4. Players continue to alternate turns until one player achieves a winning combination or the grid is full. ',\n",
       "   'Chunk_Text': ['one player achieves a winning combination or the grid is full.']},\n",
       "  'tic_tac_toe_Overview:_0': {'Section_name': 'Overview:',\n",
       "   'Text': 'Tic-Tac-Toe is a simple, two -player game where the objective is to be the ﬁrst player to align three of your marks (either X or O) in a horizontal, vertical, or diagonal row on a 3x3 grid.',\n",
       "   'Chunk_Text': ['Tic-Tac-Toe is a simple, two -player game where the objective is to be the ﬁrst player to align three of your marks (either X or O) in a horizontal, vertical, or diagonal row on a 3x3 grid.']},\n",
       "  'tic_tac_toe_Winning_the_Game:_0': {'Section_name': 'Winning the Game:',\n",
       "   'Text': '- A player wins by placing three of their symbols in a row, which can be: - Horizontally: Any of the three horizontal rows. - Vertically: Any of the three vertical columns. - Diagonally: Either of the two diagonal lines from corner to corner.  Draw: - The game is considered a draw if all 9 squares are ﬁlled and neither player has aligned three of their symbols in a row.',\n",
       "   'Chunk_Text': ['- A player wins by placing three of their symbols in a row, which can be: - Horizontally: Any of the three horizontal rows. - Vertically: Any of the three vertical columns. - Diagonally: Either of the two diagonal lines from corner to corner.  Draw: - The game is considered a draw if all 9 squares']},\n",
       "  'tic_tac_toe_Winning_the_Game:_1': {'Section_name': 'Winning the Game:',\n",
       "   'Text': '- A player wins by placing three of their symbols in a row, which can be: - Horizontally: Any of the three horizontal rows. - Vertically: Any of the three vertical columns. - Diagonally: Either of the two diagonal lines from corner to corner.  Draw: - The game is considered a draw if all 9 squares are ﬁlled and neither player has aligned three of their symbols in a row.',\n",
       "   'Chunk_Text': ['- The game is considered a draw if all 9 squares are ﬁlled and neither player has aligned three of their symbols in a row.']}}}"
      ]
     },
     "execution_count": 25,
     "metadata": {},
     "output_type": "execute_result"
    }
   ],
   "source": [
    "meta_data"
   ]
  },
  {
   "cell_type": "code",
   "execution_count": null,
   "metadata": {},
   "outputs": [],
   "source": []
  }
 ],
 "metadata": {
  "kernelspec": {
   "display_name": "Python 3",
   "language": "python",
   "name": "python3"
  },
  "language_info": {
   "codemirror_mode": {
    "name": "ipython",
    "version": 3
   },
   "file_extension": ".py",
   "mimetype": "text/x-python",
   "name": "python",
   "nbconvert_exporter": "python",
   "pygments_lexer": "ipython3",
   "version": "3.11.9"
  }
 },
 "nbformat": 4,
 "nbformat_minor": 2
}
