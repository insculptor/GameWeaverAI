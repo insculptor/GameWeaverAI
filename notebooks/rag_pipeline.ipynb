{
 "cells": [
  {
   "cell_type": "markdown",
   "metadata": {},
   "source": [
    "#### Import"
   ]
  },
  {
   "cell_type": "code",
   "execution_count": 1,
   "metadata": {},
   "outputs": [
    {
     "name": "stdout",
     "output_type": "stream",
     "text": [
      "Added c:\\Users\\erdrr\\OneDrive\\Desktop\\KB\\Projects\\GameWeaverAI to the Python path.\n"
     ]
    }
   ],
   "source": [
    "import sys\n",
    "import os\n",
    "from pathlib import Path\n",
    "\n",
    "# Add the Application root to Python path\n",
    "ROOT_PATH = os.path.abspath(os.path.join( os.getcwd(), '..'))\n",
    "sys.path.insert(0, ROOT_PATH)\n",
    "print(f\"Added {ROOT_PATH} to the Python path.\")\n",
    "from src.rag.retrieve_data import RAGRetriever"
   ]
  },
  {
   "cell_type": "code",
   "execution_count": 2,
   "metadata": {},
   "outputs": [
    {
     "name": "stderr",
     "output_type": "stream",
     "text": [
      "c:\\Users\\erdrr\\OneDrive\\Desktop\\KB\\Projects\\GameWeaverAI\\.venv\\Lib\\site-packages\\tqdm\\auto.py:21: TqdmWarning: IProgress not found. Please update jupyter and ipywidgets. See https://ipywidgets.readthedocs.io/en/stable/user_install.html\n",
      "  from .autonotebook import tqdm as notebook_tqdm\n"
     ]
    }
   ],
   "source": [
    "import os\n",
    "import PyPDF2\n",
    "import torch\n",
    "import json\n",
    "from src.models.hf_models_manager import HFModelsManager\n",
    "from src.rag.retrieve_data import RAGRetriever\n",
    "from langchain.text_splitter import RecursiveCharacterTextSplitter\n",
    "from chromadb import PersistentClient\n",
    "from dotenv import load_dotenv"
   ]
  },
  {
   "cell_type": "code",
   "execution_count": 3,
   "metadata": {},
   "outputs": [
    {
     "data": {
      "text/plain": [
       "True"
      ]
     },
     "execution_count": 3,
     "metadata": {},
     "output_type": "execute_result"
    }
   ],
   "source": [
    "# Load environment variables\n",
    "load_dotenv()"
   ]
  },
  {
   "cell_type": "markdown",
   "metadata": {},
   "source": [
    "### Setup Paths"
   ]
  },
  {
   "cell_type": "code",
   "execution_count": 4,
   "metadata": {},
   "outputs": [
    {
     "name": "stdout",
     "output_type": "stream",
     "text": [
      "MODELS_PATH: c:\\Users\\erdrr\\OneDrive\\Desktop\\KB\\Projects\\GameWeaverAI\\models | VECTORSTORE_PATH: c:\\Users\\erdrr\\OneDrive\\Desktop\\KB\\Projects\\GameWeaverAI\\vectorstore | DOCS_PATH: c:\\Users\\erdrr\\OneDrive\\Desktop\\KB\\Projects\\GameWeaverAI\\data/docs\n",
      "EMBEDDING_MODEL: None\n",
      "COLLECTION_NAME: None | COLLECTION_MAPPING_PATH: c:\\Users\\erdrr\\OneDrive\\Desktop\\KB\\Projects\\GameWeaverAI\\vectorstore\\None.json\n",
      "CHUNK_SIZE: None | CHUNK_OVERLAP: None\n"
     ]
    }
   ],
   "source": [
    "#Load Env Variables\n",
    "DOCS_PATH = os.path.join(ROOT_PATH,os.getenv(\"DOCS_PATH\"))  \n",
    "MODELS_PATH = os.path.join(ROOT_PATH,os.getenv(\"MODELS_BASE_DIR\"))\n",
    "VECTORSTORE_PATH = os.path.join(ROOT_PATH,os.getenv(\"VECTORSTORE_PATH\"))\n",
    "EMBEDDING_MODEL = os.getenv(\"EMBEDDING_MODEL\")\n",
    "COLLECTION_NAME = os.getenv(\"CHROMADB_COLLECTION\")\n",
    "COLLECTION_MAPPING_PATH = os.path.join(VECTORSTORE_PATH, f\"{COLLECTION_NAME}.json\")\n",
    "CHUNK_SIZE = os.getenv(\"CHUNK_SIZE\")\n",
    "CHUNK_OVERLAP = os.getenv(\"CHUNK_OVERLAP\")\n",
    "\n",
    "print(f\"MODELS_PATH: {MODELS_PATH} | VECTORSTORE_PATH: {VECTORSTORE_PATH} | DOCS_PATH: {DOCS_PATH}\")\n",
    "print(f\"EMBEDDING_MODEL: {EMBEDDING_MODEL}\")\n",
    "print(f\"COLLECTION_NAME: {COLLECTION_NAME} | COLLECTION_MAPPING_PATH: {COLLECTION_MAPPING_PATH}\")\n",
    "print(f\"CHUNK_SIZE: {CHUNK_SIZE} | CHUNK_OVERLAP: {CHUNK_OVERLAP}\")"
   ]
  },
  {
   "cell_type": "code",
   "execution_count": null,
   "metadata": {},
   "outputs": [],
   "source": [
    "# Initialize HFModelsManager\n",
    "hf_manager = HFModelsManager(EMBEDDING_MODEL, model_path=MODELS_PATH)\n",
    "model, tokenizer = hf_manager.initialize_model() "
   ]
  },
  {
   "cell_type": "code",
   "execution_count": 6,
   "metadata": {},
   "outputs": [],
   "source": [
    "def setup_chromadb():\n",
    "    \"\"\"Set up ChromaDB client with persistent storage.\"\"\"\n",
    "    client = PersistentClient(path=VECTORSTORE_PATH)\n",
    "    try:\n",
    "        collection = client.get_collection(COLLECTION_NAME)\n",
    "    except Exception:\n",
    "        collection = client.create_collection(COLLECTION_NAME)\n",
    "    return client, collection"
   ]
  },
  {
   "cell_type": "code",
   "execution_count": 7,
   "metadata": {},
   "outputs": [],
   "source": [
    "client , collection = setup_chromadb()"
   ]
  },
  {
   "cell_type": "code",
   "execution_count": 8,
   "metadata": {},
   "outputs": [],
   "source": [
    "def get_collection_mapping():\n",
    "    \"\"\"Reads the Collection Master Mapping file.\"\"\"\n",
    "    if os.path.exists(COLLECTION_MAPPING_PATH):\n",
    "        with open(COLLECTION_MAPPING_PATH, 'r') as f:\n",
    "            return json.load(f)\n",
    "    return []"
   ]
  },
  {
   "cell_type": "code",
   "execution_count": null,
   "metadata": {},
   "outputs": [],
   "source": [
    "collection_mapping = get_collection_mapping()\n",
    "collection_mapping"
   ]
  },
  {
   "cell_type": "code",
   "execution_count": 11,
   "metadata": {},
   "outputs": [],
   "source": [
    "def write_collection_mapping(game_rules):\n",
    "    \"\"\"Writes the updated game rules to the game_rules.json file.\"\"\"\n",
    "    with open(COLLECTION_MAPPING_PATH, 'w') as f:\n",
    "        json.dump(game_rules, f, indent=4)"
   ]
  },
  {
   "cell_type": "code",
   "execution_count": 12,
   "metadata": {},
   "outputs": [],
   "source": [
    "def get_or_create_game_id(game_name):\n",
    "    \"\"\"Check if a game already exists in the collection mapping and return its ID, or create a new one.\"\"\"\n",
    "    collection_mapping = get_collection_mapping()\n",
    "\n",
    "    # Check if the game already exists in the JSON\n",
    "    for game in collection_mapping:\n",
    "        if game[\"Game Name\"] == game_name:\n",
    "            return game[\"ID\"], collection_mapping\n",
    "\n",
    "    # If game doesn't exist, create a new ID\n",
    "    new_id = len(collection_mapping) + 1\n",
    "    return new_id, collection_mapping"
   ]
  },
  {
   "cell_type": "code",
   "execution_count": 13,
   "metadata": {},
   "outputs": [],
   "source": [
    "def read_pdf_sections(file_path):\n",
    "    \"\"\"Reads a PDF file and extracts text into sections based on predefined headings.\"\"\"\n",
    "    sections = {}\n",
    "    with open(file_path, \"rb\") as file:\n",
    "        reader = PyPDF2.PdfReader(file)\n",
    "        text = \"\"\n",
    "        for page in reader.pages:\n",
    "            text += page.extract_text()\n",
    "    \n",
    "    # Split sections based on known section titles\n",
    "    section_titles = [\"Overview\", \"Game Setup\", \"How to Play\", \"Winning the Game\", \"Game Strategy\", \"End of Game\"]\n",
    "    current_section = None\n",
    "    for line in text.splitlines():\n",
    "        if any(title in line for title in section_titles):\n",
    "            current_section = line.strip()\n",
    "            sections[current_section] = []\n",
    "        elif current_section:\n",
    "            sections[current_section].append(line.strip())\n",
    "\n",
    "    # Join lines for each section\n",
    "    for section in sections:\n",
    "        sections[section] = \" \".join(sections[section])\n",
    "\n",
    "    return sections"
   ]
  },
  {
   "cell_type": "code",
   "execution_count": null,
   "metadata": {},
   "outputs": [],
   "source": [
    "data = read_pdf_sections(f\"{DOCS_PATH}/tic_tac_toe.pdf\")\n",
    "data"
   ]
  },
  {
   "cell_type": "code",
   "execution_count": 15,
   "metadata": {},
   "outputs": [],
   "source": [
    "def preprocess_and_split_sections(sections, chunk_size=50, chunk_overlap=5):\n",
    "    \"\"\"Splits sections into chunks using the RecursiveCharacterTextSplitter with specified chunk size and overlap.\"\"\"\n",
    "    chunks = {}\n",
    "    \n",
    "    # Define the text splitter with specified chunk size and overlap\n",
    "    text_splitter = RecursiveCharacterTextSplitter(\n",
    "        chunk_size=chunk_size,\n",
    "        chunk_overlap=chunk_overlap,\n",
    "        length_function=len  # Split purely based on character count\n",
    "    )\n",
    "    \n",
    "    for section_name, section_text in sections.items():\n",
    "        # Ensure that each section is split into chunks based on chunk_size and chunk_overlap\n",
    "        section_chunks = text_splitter.split_text(section_text)\n",
    "        \n",
    "        # Debugging output to verify if splitting works correctly\n",
    "        print(\"*\" * 100)\n",
    "        print(f\"Section Name: {section_name}\")\n",
    "        print(f\"Original Section Text Length: {len(section_text)}\")\n",
    "        print(f\"Section Text: {section_text}\")\n",
    "        print(f\"Section Chunks ({len(section_chunks)} chunks): {section_chunks}\")\n",
    "        print(\"*\" * 100)\n",
    "        \n",
    "        # Store the chunks by section name\n",
    "        chunks[section_name] = section_chunks\n",
    "    \n",
    "    return chunks"
   ]
  },
  {
   "cell_type": "code",
   "execution_count": null,
   "metadata": {},
   "outputs": [],
   "source": [
    "sections = {\n",
    "    \"Overview\": \"Tic-Tac-Toe is a simple, two-player game where the objective is to be the first player to align three of your marks (either X or O) in a horizontal, vertical, or diagonal row on a 3x3 grid.\"\n",
    "}\n",
    "\n",
    "chunks = preprocess_and_split_sections(sections, chunk_size=10, chunk_overlap=2)\n",
    "\n",
    "# Print the chunks for the \"Overview\" section\n",
    "for section_name, section_chunks in chunks.items():\n",
    "    print(f\"Section: {section_name}\")\n",
    "    for i, chunk in enumerate(section_chunks):\n",
    "        print(f\"Chunk {i + 1}: {chunk}\")"
   ]
  },
  {
   "cell_type": "code",
   "execution_count": 18,
   "metadata": {},
   "outputs": [],
   "source": [
    "def create_embeddings(chunks):\n",
    "    \"\"\"Creates embeddings for the text chunks using the HF model.\"\"\"\n",
    "    embeddings = {}\n",
    "    for section_name, chunk_list in chunks.items():\n",
    "        embeddings[section_name] = []\n",
    "        for chunk in chunk_list:\n",
    "            inputs = tokenizer(chunk, return_tensors=\"pt\", truncation=True, padding=True, max_length=512)\n",
    "            with torch.no_grad():\n",
    "                outputs = model(**inputs)\n",
    "                embedding = torch.mean(outputs.last_hidden_state, dim=1).squeeze().numpy()\n",
    "                embeddings[section_name].append(embedding)\n",
    "    return embeddings"
   ]
  },
  {
   "cell_type": "code",
   "execution_count": 20,
   "metadata": {},
   "outputs": [],
   "source": [
    "def ingest_document(file_path):\n",
    "    \"\"\"Ingests each section of the PDF as separate documents with embeddings into ChromaDB.\"\"\"\n",
    "    # Get the game ID (either existing or new)\n",
    "    game_name = os.path.basename(file_path).replace(\".pdf\", \"\")\n",
    "    game_id, game_rules = get_or_create_game_id(game_name)\n",
    "    \n",
    "    # Read sections from the PDF\n",
    "    sections = read_pdf_sections(file_path)\n",
    "    \n",
    "    # Preprocess and split each section into chunks of size 300\n",
    "    chunks = preprocess_and_split_sections(sections, chunk_size=300, chunk_overlap=50)\n",
    "    \n",
    "    # Create embeddings for the chunks\n",
    "    embeddings = create_embeddings(chunks)\n",
    "    \n",
    "    # Ingest each chunk with metadata\n",
    "    for section_name, chunk_list in chunks.items():\n",
    "        # Get the full section text\n",
    "        full_section_text = sections[section_name]\n",
    "\n",
    "        for i, chunk in enumerate(chunk_list):\n",
    "            # Create a custom document ID in the format game_name_section_name_chunk_id\n",
    "            document_id = f\"{game_name}_{section_name.replace(' ', '_')}_{i}\"\n",
    "            \n",
    "            print(f\"Ingesting document {document_id}...\")\n",
    "            print(f\"Full Section Text: {full_section_text}\")\n",
    "            print(f\"Chunk Text: {chunk}\")\n",
    "            print(f\"Embedding: {embeddings[section_name][i]}\")\n",
    "            print(f\"Metadata: {game_id}, {game_name}, {section_name}\")\n",
    "            \n",
    "            # Store both the full section text and individual chunk text\n",
    "            document_metadata = {\n",
    "                \"Game_ID\": str(game_id),\n",
    "                \"Game_Name\": game_name,\n",
    "                \"Section_name\": section_name,\n",
    "                \"Text\": full_section_text,  # Store the entire section text once\n",
    "                \"Chunk_Text\": chunk  # Store the chunk text here\n",
    "            }\n",
    "\n",
    "            # Upsert the document into ChromaDB\n",
    "            collection.upsert(\n",
    "                ids=[document_id],\n",
    "                documents=[chunk],  # Store the chunk text in the document\n",
    "                embeddings=[embeddings[section_name][i].tolist()],  # Store embeddings separately\n",
    "                metadatas=[document_metadata]  # Metadata with the complete section text and chunk text\n",
    "            )\n",
    "    \n",
    "    # Update the JSON file if it's a new game\n",
    "    if not any(rule[\"Game Name\"] == game_name for rule in game_rules):\n",
    "        game_rules.append({\"ID\": game_id, \"Game Name\": game_name})\n",
    "        write_collection_mapping(game_rules)"
   ]
  },
  {
   "cell_type": "code",
   "execution_count": null,
   "metadata": {},
   "outputs": [],
   "source": [
    "file_path = f\"{DOCS_PATH}/tic_tac_toe.pdf\"\n",
    "ingest_document(file_path)"
   ]
  },
  {
   "cell_type": "code",
   "execution_count": null,
   "metadata": {},
   "outputs": [],
   "source": [
    "game_rules = get_collection_mapping()"
   ]
  },
  {
   "cell_type": "code",
   "execution_count": 22,
   "metadata": {},
   "outputs": [],
   "source": [
    "def fetch_document_metadata(game_id):\n",
    "    \"\"\"Fetches all metadata and chunks related to a specific game ID from ChromaDB.\"\"\"\n",
    "    # Load the game rules JSON to find the corresponding GAME_NAME for the given game_id\n",
    "    game_rules = get_collection_mapping()\n",
    "\n",
    "    # Find the game entry with the specified ID\n",
    "    game_entry = next((rule for rule in game_rules if str(rule[\"ID\"]) == str(game_id)), None)\n",
    "    \n",
    "    if not game_entry:\n",
    "        print(f\"No game found with ID: {game_id}\")\n",
    "        return None\n",
    "\n",
    "    # Get the GAME_NAME from the entry\n",
    "    game_name = game_entry[\"Game Name\"]\n",
    "    \n",
    "    # Set up the ChromaDB collection\n",
    "    client, collection = setup_chromadb()\n",
    "\n",
    "    # Fetch all documents from the collection\n",
    "    try:\n",
    "        all_documents = collection.get()  # Fetch all documents\n",
    "    except Exception as e:\n",
    "        print(f\"Error fetching documents from ChromaDB: {e}\")\n",
    "        return None\n",
    "\n",
    "    if not all_documents:\n",
    "        print(f\"No documents retrieved from ChromaDB for Game_Name: {game_name}\")\n",
    "        return None\n",
    "\n",
    "    # Initialize the response dictionary\n",
    "    response = {\n",
    "        \"ID\": game_id,\n",
    "        \"Game_Name\": game_name,\n",
    "        \"Chunks\": {}\n",
    "    }\n",
    "\n",
    "    # Filter the documents whose IDs start with the format 'GAME_NAME_'\n",
    "    search_pattern = f\"{game_name}_\"\n",
    "    \n",
    "    if all_documents.get(\"ids\") and all_documents.get(\"metadatas\"):\n",
    "        for i, chunk_id in enumerate(all_documents[\"ids\"]):\n",
    "            if chunk_id.startswith(search_pattern):  # Filter by IDs starting with GAME_NAME_\n",
    "                section_name = all_documents[\"metadatas\"][i].get(\"Section_name\", \"Unknown Section\")\n",
    "                chunk_text = all_documents[\"metadatas\"][i].get(\"Chunk_Text\", \"No Chunk Available\")\n",
    "                full_text = all_documents[\"metadatas\"][i].get(\"Text\", \"No Full Text Available\")\n",
    "\n",
    "                # Group chunks under the same section and store the complete text once\n",
    "                if chunk_id not in response[\"Chunks\"]:\n",
    "                    response[\"Chunks\"][chunk_id] = {\n",
    "                        \"Section_name\": section_name,\n",
    "                        \"Text\": full_text,  # Complete section text\n",
    "                        \"Chunk_Text\": [chunk_text]  # List of chunk texts\n",
    "                    }\n",
    "                else:\n",
    "                    response[\"Chunks\"][chunk_id][\"Chunk_Text\"].append(chunk_text)\n",
    "\n",
    "    return response\n"
   ]
  },
  {
   "cell_type": "code",
   "execution_count": 23,
   "metadata": {},
   "outputs": [],
   "source": [
    "meta_data = fetch_document_metadata(1)"
   ]
  },
  {
   "cell_type": "code",
   "execution_count": null,
   "metadata": {},
   "outputs": [],
   "source": [
    "meta_data"
   ]
  },
  {
   "cell_type": "markdown",
   "metadata": {},
   "source": [
    "# Metadata Viewer"
   ]
  },
  {
   "cell_type": "code",
   "execution_count": 1,
   "metadata": {},
   "outputs": [
    {
     "name": "stdout",
     "output_type": "stream",
     "text": [
      "Added c:\\Users\\erdrr\\OneDrive\\Desktop\\KB\\Projects\\GameWeaverAI to the Python path.\n"
     ]
    },
    {
     "data": {
      "text/plain": [
       "True"
      ]
     },
     "execution_count": 1,
     "metadata": {},
     "output_type": "execute_result"
    }
   ],
   "source": [
    "import sys\n",
    "import os\n",
    "from pathlib import Path\n",
    "\n",
    "# Add the Application root to Python path\n",
    "ROOT_PATH = os.path.abspath(os.path.join( os.getcwd(), '..'))\n",
    "sys.path.insert(0, ROOT_PATH)\n",
    "print(f\"Added {ROOT_PATH} to the Python path.\")\n",
    "from dotenv import load_dotenv\n",
    "load_dotenv()"
   ]
  },
  {
   "cell_type": "code",
   "execution_count": 7,
   "metadata": {},
   "outputs": [
    {
     "name": "stderr",
     "output_type": "stream",
     "text": [
      "2024-09-07 10:48:51,439 - DEBUG - connectionpool.py - https://huggingface.co:443 \"GET /api/whoami-v2 HTTP/11\" 200 765\n",
      "2024-09-07 10:48:51,545 - DEBUG - connectionpool.py - https://huggingface.co:443 \"GET /api/models/dunzhang/stella_en_1.5B_v5/revision/main HTTP/11\" 200 376631\n"
     ]
    },
    {
     "name": "stdout",
     "output_type": "stream",
     "text": [
      "The token has not been saved to the git credentials helper. Pass `add_to_git_credential=True` in this function directly or `--add-to-git-credential` if using via `huggingface-cli` if you want to set the git credential as well.\n",
      "Token is valid (permission: fineGrained).\n",
      "Your token has been saved to C:\\Users\\erdrr\\.cache\\huggingface\\token\n",
      "Login successful\n",
      "Connected to Huggingface\n"
     ]
    },
    {
     "name": "stderr",
     "output_type": "stream",
     "text": [
      "2024-09-07 10:48:51,616 - DEBUG - _api.py - Attempting to acquire lock 2432863477584 on c:\\Users\\erdrr\\OneDrive\\Desktop\\KB\\Projects\\GameWeaverAI\\models\\dunzhang\\stella_en_1.5B_v5\\.cache\\huggingface\\download\\.gitattributes.lock\n",
      "2024-09-07 10:48:51,618 - DEBUG - _api.py - Lock 2432863477584 acquired on c:\\Users\\erdrr\\OneDrive\\Desktop\\KB\\Projects\\GameWeaverAI\\models\\dunzhang\\stella_en_1.5B_v5\\.cache\\huggingface\\download\\.gitattributes.lock\n",
      "2024-09-07 10:48:51,618 - DEBUG - _api.py - Attempting to acquire lock 2432863483216 on c:\\Users\\erdrr\\OneDrive\\Desktop\\KB\\Projects\\GameWeaverAI\\models\\dunzhang\\stella_en_1.5B_v5\\.cache\\huggingface\\download\\1_Pooling\\config.json.lock\n",
      "2024-09-07 10:48:51,619 - DEBUG - _api.py - Attempting to acquire lock 2432863405776 on c:\\Users\\erdrr\\OneDrive\\Desktop\\KB\\Projects\\GameWeaverAI\\models\\dunzhang\\stella_en_1.5B_v5\\.cache\\huggingface\\download\\2_Dense\\config.json.lock\n",
      "2024-09-07 10:48:51,619 - DEBUG - _api.py - Attempting to acquire lock 2432863409104 on c:\\Users\\erdrr\\OneDrive\\Desktop\\KB\\Projects\\GameWeaverAI\\models\\dunzhang\\stella_en_1.5B_v5\\.cache\\huggingface\\download\\2_Dense\\pytorch_model.bin.lock\n",
      "Fetching 41 files:   0%|          | 0/41 [00:00<?, ?it/s]2024-09-07 10:48:51,620 - DEBUG - _api.py - Attempting to acquire lock 2432863409872 on c:\\Users\\erdrr\\OneDrive\\Desktop\\KB\\Projects\\GameWeaverAI\\models\\dunzhang\\stella_en_1.5B_v5\\.cache\\huggingface\\download\\2_Dense\\model.safetensors.lock\n",
      "2024-09-07 10:48:51,621 - DEBUG - _api.py - Attempting to acquire lock 2432863414160 on c:\\Users\\erdrr\\OneDrive\\Desktop\\KB\\Projects\\GameWeaverAI\\models\\dunzhang\\stella_en_1.5B_v5\\.cache\\huggingface\\download\\2_Dense_1024\\config.json.lock\n",
      "2024-09-07 10:48:51,621 - DEBUG - _api.py - Attempting to release lock 2432863477584 on c:\\Users\\erdrr\\OneDrive\\Desktop\\KB\\Projects\\GameWeaverAI\\models\\dunzhang\\stella_en_1.5B_v5\\.cache\\huggingface\\download\\.gitattributes.lock\n",
      "2024-09-07 10:48:51,623 - DEBUG - _api.py - Attempting to acquire lock 2432863210320 on c:\\Users\\erdrr\\OneDrive\\Desktop\\KB\\Projects\\GameWeaverAI\\models\\dunzhang\\stella_en_1.5B_v5\\.cache\\huggingface\\download\\2_Dense_1024\\model.safetensors.lock\n",
      "2024-09-07 10:48:51,623 - DEBUG - _api.py - Attempting to acquire lock 2432863211408 on c:\\Users\\erdrr\\OneDrive\\Desktop\\KB\\Projects\\GameWeaverAI\\models\\dunzhang\\stella_en_1.5B_v5\\.cache\\huggingface\\download\\2_Dense_1024\\pytorch_model.bin.lock\n",
      "2024-09-07 10:48:51,623 - DEBUG - _api.py - Lock 2432863483216 acquired on c:\\Users\\erdrr\\OneDrive\\Desktop\\KB\\Projects\\GameWeaverAI\\models\\dunzhang\\stella_en_1.5B_v5\\.cache\\huggingface\\download\\1_Pooling\\config.json.lock\n",
      "2024-09-07 10:48:51,626 - DEBUG - _api.py - Lock 2432863405776 acquired on c:\\Users\\erdrr\\OneDrive\\Desktop\\KB\\Projects\\GameWeaverAI\\models\\dunzhang\\stella_en_1.5B_v5\\.cache\\huggingface\\download\\2_Dense\\config.json.lock\n",
      "2024-09-07 10:48:51,627 - DEBUG - _api.py - Lock 2432863409104 acquired on c:\\Users\\erdrr\\OneDrive\\Desktop\\KB\\Projects\\GameWeaverAI\\models\\dunzhang\\stella_en_1.5B_v5\\.cache\\huggingface\\download\\2_Dense\\pytorch_model.bin.lock\n",
      "2024-09-07 10:48:51,627 - DEBUG - _api.py - Lock 2432863409872 acquired on c:\\Users\\erdrr\\OneDrive\\Desktop\\KB\\Projects\\GameWeaverAI\\models\\dunzhang\\stella_en_1.5B_v5\\.cache\\huggingface\\download\\2_Dense\\model.safetensors.lock\n",
      "2024-09-07 10:48:51,627 - DEBUG - _api.py - Lock 2432863414160 acquired on c:\\Users\\erdrr\\OneDrive\\Desktop\\KB\\Projects\\GameWeaverAI\\models\\dunzhang\\stella_en_1.5B_v5\\.cache\\huggingface\\download\\2_Dense_1024\\config.json.lock\n",
      "2024-09-07 10:48:51,631 - DEBUG - _api.py - Lock 2432863477584 released on c:\\Users\\erdrr\\OneDrive\\Desktop\\KB\\Projects\\GameWeaverAI\\models\\dunzhang\\stella_en_1.5B_v5\\.cache\\huggingface\\download\\.gitattributes.lock\n",
      "2024-09-07 10:48:51,632 - DEBUG - _api.py - Lock 2432863210320 acquired on c:\\Users\\erdrr\\OneDrive\\Desktop\\KB\\Projects\\GameWeaverAI\\models\\dunzhang\\stella_en_1.5B_v5\\.cache\\huggingface\\download\\2_Dense_1024\\model.safetensors.lock\n",
      "2024-09-07 10:48:51,634 - DEBUG - _api.py - Lock 2432863211408 acquired on c:\\Users\\erdrr\\OneDrive\\Desktop\\KB\\Projects\\GameWeaverAI\\models\\dunzhang\\stella_en_1.5B_v5\\.cache\\huggingface\\download\\2_Dense_1024\\pytorch_model.bin.lock\n",
      "2024-09-07 10:48:51,634 - DEBUG - _api.py - Attempting to release lock 2432863483216 on c:\\Users\\erdrr\\OneDrive\\Desktop\\KB\\Projects\\GameWeaverAI\\models\\dunzhang\\stella_en_1.5B_v5\\.cache\\huggingface\\download\\1_Pooling\\config.json.lock\n",
      "2024-09-07 10:48:51,634 - DEBUG - _api.py - Attempting to release lock 2432863405776 on c:\\Users\\erdrr\\OneDrive\\Desktop\\KB\\Projects\\GameWeaverAI\\models\\dunzhang\\stella_en_1.5B_v5\\.cache\\huggingface\\download\\2_Dense\\config.json.lock\n",
      "2024-09-07 10:48:51,636 - DEBUG - _api.py - Attempting to release lock 2432863409104 on c:\\Users\\erdrr\\OneDrive\\Desktop\\KB\\Projects\\GameWeaverAI\\models\\dunzhang\\stella_en_1.5B_v5\\.cache\\huggingface\\download\\2_Dense\\pytorch_model.bin.lock\n",
      "2024-09-07 10:48:51,636 - DEBUG - _api.py - Attempting to release lock 2432863409872 on c:\\Users\\erdrr\\OneDrive\\Desktop\\KB\\Projects\\GameWeaverAI\\models\\dunzhang\\stella_en_1.5B_v5\\.cache\\huggingface\\download\\2_Dense\\model.safetensors.lock\n",
      "2024-09-07 10:48:51,636 - DEBUG - _api.py - Attempting to release lock 2432863414160 on c:\\Users\\erdrr\\OneDrive\\Desktop\\KB\\Projects\\GameWeaverAI\\models\\dunzhang\\stella_en_1.5B_v5\\.cache\\huggingface\\download\\2_Dense_1024\\config.json.lock\n",
      "2024-09-07 10:48:51,639 - DEBUG - _api.py - Attempting to acquire lock 2432863223376 on c:\\Users\\erdrr\\OneDrive\\Desktop\\KB\\Projects\\GameWeaverAI\\models\\dunzhang\\stella_en_1.5B_v5\\.cache\\huggingface\\download\\2_Dense_2048\\config.json.lock\n",
      "2024-09-07 10:48:51,639 - DEBUG - _api.py - Attempting to release lock 2432863211408 on c:\\Users\\erdrr\\OneDrive\\Desktop\\KB\\Projects\\GameWeaverAI\\models\\dunzhang\\stella_en_1.5B_v5\\.cache\\huggingface\\download\\2_Dense_1024\\pytorch_model.bin.lock\n",
      "2024-09-07 10:48:51,640 - DEBUG - _api.py - Attempting to release lock 2432863210320 on c:\\Users\\erdrr\\OneDrive\\Desktop\\KB\\Projects\\GameWeaverAI\\models\\dunzhang\\stella_en_1.5B_v5\\.cache\\huggingface\\download\\2_Dense_1024\\model.safetensors.lock\n",
      "2024-09-07 10:48:51,640 - DEBUG - _api.py - Lock 2432863483216 released on c:\\Users\\erdrr\\OneDrive\\Desktop\\KB\\Projects\\GameWeaverAI\\models\\dunzhang\\stella_en_1.5B_v5\\.cache\\huggingface\\download\\1_Pooling\\config.json.lock\n",
      "2024-09-07 10:48:51,641 - DEBUG - _api.py - Lock 2432863405776 released on c:\\Users\\erdrr\\OneDrive\\Desktop\\KB\\Projects\\GameWeaverAI\\models\\dunzhang\\stella_en_1.5B_v5\\.cache\\huggingface\\download\\2_Dense\\config.json.lock\n",
      "2024-09-07 10:48:51,641 - DEBUG - _api.py - Lock 2432863409104 released on c:\\Users\\erdrr\\OneDrive\\Desktop\\KB\\Projects\\GameWeaverAI\\models\\dunzhang\\stella_en_1.5B_v5\\.cache\\huggingface\\download\\2_Dense\\pytorch_model.bin.lock\n",
      "2024-09-07 10:48:51,641 - DEBUG - _api.py - Lock 2432863409872 released on c:\\Users\\erdrr\\OneDrive\\Desktop\\KB\\Projects\\GameWeaverAI\\models\\dunzhang\\stella_en_1.5B_v5\\.cache\\huggingface\\download\\2_Dense\\model.safetensors.lock\n",
      "2024-09-07 10:48:51,642 - DEBUG - _api.py - Lock 2432863414160 released on c:\\Users\\erdrr\\OneDrive\\Desktop\\KB\\Projects\\GameWeaverAI\\models\\dunzhang\\stella_en_1.5B_v5\\.cache\\huggingface\\download\\2_Dense_1024\\config.json.lock\n",
      "2024-09-07 10:48:51,643 - DEBUG - _api.py - Lock 2432863223376 acquired on c:\\Users\\erdrr\\OneDrive\\Desktop\\KB\\Projects\\GameWeaverAI\\models\\dunzhang\\stella_en_1.5B_v5\\.cache\\huggingface\\download\\2_Dense_2048\\config.json.lock\n",
      "2024-09-07 10:48:51,644 - DEBUG - _api.py - Lock 2432863211408 released on c:\\Users\\erdrr\\OneDrive\\Desktop\\KB\\Projects\\GameWeaverAI\\models\\dunzhang\\stella_en_1.5B_v5\\.cache\\huggingface\\download\\2_Dense_1024\\pytorch_model.bin.lock\n",
      "2024-09-07 10:48:51,644 - DEBUG - _api.py - Lock 2432863210320 released on c:\\Users\\erdrr\\OneDrive\\Desktop\\KB\\Projects\\GameWeaverAI\\models\\dunzhang\\stella_en_1.5B_v5\\.cache\\huggingface\\download\\2_Dense_1024\\model.safetensors.lock\n",
      "2024-09-07 10:48:51,646 - DEBUG - _api.py - Attempting to acquire lock 2432863479952 on c:\\Users\\erdrr\\OneDrive\\Desktop\\KB\\Projects\\GameWeaverAI\\models\\dunzhang\\stella_en_1.5B_v5\\.cache\\huggingface\\download\\2_Dense_2048\\model.safetensors.lock\n",
      "2024-09-07 10:48:51,647 - DEBUG - _api.py - Attempting to acquire lock 2432863477840 on c:\\Users\\erdrr\\OneDrive\\Desktop\\KB\\Projects\\GameWeaverAI\\models\\dunzhang\\stella_en_1.5B_v5\\.cache\\huggingface\\download\\2_Dense_256\\config.json.lock\n",
      "2024-09-07 10:48:51,648 - DEBUG - _api.py - Attempting to acquire lock 2432863175376 on c:\\Users\\erdrr\\OneDrive\\Desktop\\KB\\Projects\\GameWeaverAI\\models\\dunzhang\\stella_en_1.5B_v5\\.cache\\huggingface\\download\\2_Dense_2048\\pytorch_model.bin.lock\n",
      "2024-09-07 10:48:51,648 - DEBUG - _api.py - Attempting to acquire lock 2432863181712 on c:\\Users\\erdrr\\OneDrive\\Desktop\\KB\\Projects\\GameWeaverAI\\models\\dunzhang\\stella_en_1.5B_v5\\.cache\\huggingface\\download\\2_Dense_256\\model.safetensors.lock\n",
      "2024-09-07 10:48:51,650 - DEBUG - _api.py - Attempting to acquire lock 2432863182224 on c:\\Users\\erdrr\\OneDrive\\Desktop\\KB\\Projects\\GameWeaverAI\\models\\dunzhang\\stella_en_1.5B_v5\\.cache\\huggingface\\download\\2_Dense_256\\pytorch_model.bin.lock\n",
      "2024-09-07 10:48:51,651 - DEBUG - _api.py - Attempting to release lock 2432863223376 on c:\\Users\\erdrr\\OneDrive\\Desktop\\KB\\Projects\\GameWeaverAI\\models\\dunzhang\\stella_en_1.5B_v5\\.cache\\huggingface\\download\\2_Dense_2048\\config.json.lock\n",
      "2024-09-07 10:48:51,651 - DEBUG - _api.py - Attempting to acquire lock 2432863181200 on c:\\Users\\erdrr\\OneDrive\\Desktop\\KB\\Projects\\GameWeaverAI\\models\\dunzhang\\stella_en_1.5B_v5\\.cache\\huggingface\\download\\2_Dense_4096\\config.json.lock\n",
      "2024-09-07 10:48:51,652 - DEBUG - _api.py - Attempting to acquire lock 2432863209296 on c:\\Users\\erdrr\\OneDrive\\Desktop\\KB\\Projects\\GameWeaverAI\\models\\dunzhang\\stella_en_1.5B_v5\\.cache\\huggingface\\download\\2_Dense_4096\\model.safetensors.lock\n",
      "2024-09-07 10:48:51,652 - DEBUG - _api.py - Lock 2432863479952 acquired on c:\\Users\\erdrr\\OneDrive\\Desktop\\KB\\Projects\\GameWeaverAI\\models\\dunzhang\\stella_en_1.5B_v5\\.cache\\huggingface\\download\\2_Dense_2048\\model.safetensors.lock\n",
      "2024-09-07 10:48:51,653 - DEBUG - _api.py - Lock 2432863477840 acquired on c:\\Users\\erdrr\\OneDrive\\Desktop\\KB\\Projects\\GameWeaverAI\\models\\dunzhang\\stella_en_1.5B_v5\\.cache\\huggingface\\download\\2_Dense_256\\config.json.lock\n",
      "2024-09-07 10:48:51,654 - DEBUG - _api.py - Lock 2432863175376 acquired on c:\\Users\\erdrr\\OneDrive\\Desktop\\KB\\Projects\\GameWeaverAI\\models\\dunzhang\\stella_en_1.5B_v5\\.cache\\huggingface\\download\\2_Dense_2048\\pytorch_model.bin.lock\n",
      "2024-09-07 10:48:51,654 - DEBUG - _api.py - Lock 2432863181712 acquired on c:\\Users\\erdrr\\OneDrive\\Desktop\\KB\\Projects\\GameWeaverAI\\models\\dunzhang\\stella_en_1.5B_v5\\.cache\\huggingface\\download\\2_Dense_256\\model.safetensors.lock\n",
      "2024-09-07 10:48:51,656 - DEBUG - _api.py - Lock 2432863182224 acquired on c:\\Users\\erdrr\\OneDrive\\Desktop\\KB\\Projects\\GameWeaverAI\\models\\dunzhang\\stella_en_1.5B_v5\\.cache\\huggingface\\download\\2_Dense_256\\pytorch_model.bin.lock\n",
      "2024-09-07 10:48:51,656 - DEBUG - _api.py - Lock 2432863223376 released on c:\\Users\\erdrr\\OneDrive\\Desktop\\KB\\Projects\\GameWeaverAI\\models\\dunzhang\\stella_en_1.5B_v5\\.cache\\huggingface\\download\\2_Dense_2048\\config.json.lock\n",
      "2024-09-07 10:48:51,657 - DEBUG - _api.py - Lock 2432863181200 acquired on c:\\Users\\erdrr\\OneDrive\\Desktop\\KB\\Projects\\GameWeaverAI\\models\\dunzhang\\stella_en_1.5B_v5\\.cache\\huggingface\\download\\2_Dense_4096\\config.json.lock\n",
      "2024-09-07 10:48:51,657 - DEBUG - _api.py - Lock 2432863209296 acquired on c:\\Users\\erdrr\\OneDrive\\Desktop\\KB\\Projects\\GameWeaverAI\\models\\dunzhang\\stella_en_1.5B_v5\\.cache\\huggingface\\download\\2_Dense_4096\\model.safetensors.lock\n",
      "2024-09-07 10:48:51,658 - DEBUG - _api.py - Attempting to release lock 2432863479952 on c:\\Users\\erdrr\\OneDrive\\Desktop\\KB\\Projects\\GameWeaverAI\\models\\dunzhang\\stella_en_1.5B_v5\\.cache\\huggingface\\download\\2_Dense_2048\\model.safetensors.lock\n",
      "2024-09-07 10:48:51,658 - DEBUG - _api.py - Attempting to release lock 2432863477840 on c:\\Users\\erdrr\\OneDrive\\Desktop\\KB\\Projects\\GameWeaverAI\\models\\dunzhang\\stella_en_1.5B_v5\\.cache\\huggingface\\download\\2_Dense_256\\config.json.lock\n",
      "2024-09-07 10:48:51,659 - DEBUG - _api.py - Attempting to release lock 2432863175376 on c:\\Users\\erdrr\\OneDrive\\Desktop\\KB\\Projects\\GameWeaverAI\\models\\dunzhang\\stella_en_1.5B_v5\\.cache\\huggingface\\download\\2_Dense_2048\\pytorch_model.bin.lock\n",
      "2024-09-07 10:48:51,660 - DEBUG - _api.py - Attempting to release lock 2432863181712 on c:\\Users\\erdrr\\OneDrive\\Desktop\\KB\\Projects\\GameWeaverAI\\models\\dunzhang\\stella_en_1.5B_v5\\.cache\\huggingface\\download\\2_Dense_256\\model.safetensors.lock\n",
      "2024-09-07 10:48:51,660 - DEBUG - _api.py - Attempting to release lock 2432863182224 on c:\\Users\\erdrr\\OneDrive\\Desktop\\KB\\Projects\\GameWeaverAI\\models\\dunzhang\\stella_en_1.5B_v5\\.cache\\huggingface\\download\\2_Dense_256\\pytorch_model.bin.lock\n",
      "2024-09-07 10:48:51,661 - DEBUG - _api.py - Attempting to acquire lock 2432863183120 on c:\\Users\\erdrr\\OneDrive\\Desktop\\KB\\Projects\\GameWeaverAI\\models\\dunzhang\\stella_en_1.5B_v5\\.cache\\huggingface\\download\\2_Dense_4096\\pytorch_model.bin.lock\n",
      "2024-09-07 10:48:51,662 - DEBUG - _api.py - Attempting to release lock 2432863181200 on c:\\Users\\erdrr\\OneDrive\\Desktop\\KB\\Projects\\GameWeaverAI\\models\\dunzhang\\stella_en_1.5B_v5\\.cache\\huggingface\\download\\2_Dense_4096\\config.json.lock\n",
      "2024-09-07 10:48:51,663 - DEBUG - _api.py - Attempting to release lock 2432863209296 on c:\\Users\\erdrr\\OneDrive\\Desktop\\KB\\Projects\\GameWeaverAI\\models\\dunzhang\\stella_en_1.5B_v5\\.cache\\huggingface\\download\\2_Dense_4096\\model.safetensors.lock\n",
      "2024-09-07 10:48:51,663 - DEBUG - _api.py - Lock 2432863479952 released on c:\\Users\\erdrr\\OneDrive\\Desktop\\KB\\Projects\\GameWeaverAI\\models\\dunzhang\\stella_en_1.5B_v5\\.cache\\huggingface\\download\\2_Dense_2048\\model.safetensors.lock\n",
      "2024-09-07 10:48:51,664 - DEBUG - _api.py - Lock 2432863477840 released on c:\\Users\\erdrr\\OneDrive\\Desktop\\KB\\Projects\\GameWeaverAI\\models\\dunzhang\\stella_en_1.5B_v5\\.cache\\huggingface\\download\\2_Dense_256\\config.json.lock\n",
      "2024-09-07 10:48:51,664 - DEBUG - _api.py - Lock 2432863175376 released on c:\\Users\\erdrr\\OneDrive\\Desktop\\KB\\Projects\\GameWeaverAI\\models\\dunzhang\\stella_en_1.5B_v5\\.cache\\huggingface\\download\\2_Dense_2048\\pytorch_model.bin.lock\n",
      "2024-09-07 10:48:51,665 - DEBUG - _api.py - Lock 2432863181712 released on c:\\Users\\erdrr\\OneDrive\\Desktop\\KB\\Projects\\GameWeaverAI\\models\\dunzhang\\stella_en_1.5B_v5\\.cache\\huggingface\\download\\2_Dense_256\\model.safetensors.lock\n",
      "2024-09-07 10:48:51,666 - DEBUG - _api.py - Lock 2432863182224 released on c:\\Users\\erdrr\\OneDrive\\Desktop\\KB\\Projects\\GameWeaverAI\\models\\dunzhang\\stella_en_1.5B_v5\\.cache\\huggingface\\download\\2_Dense_256\\pytorch_model.bin.lock\n",
      "2024-09-07 10:48:51,666 - DEBUG - _api.py - Lock 2432863183120 acquired on c:\\Users\\erdrr\\OneDrive\\Desktop\\KB\\Projects\\GameWeaverAI\\models\\dunzhang\\stella_en_1.5B_v5\\.cache\\huggingface\\download\\2_Dense_4096\\pytorch_model.bin.lock\n",
      "2024-09-07 10:48:51,667 - DEBUG - _api.py - Lock 2432863181200 released on c:\\Users\\erdrr\\OneDrive\\Desktop\\KB\\Projects\\GameWeaverAI\\models\\dunzhang\\stella_en_1.5B_v5\\.cache\\huggingface\\download\\2_Dense_4096\\config.json.lock\n",
      "2024-09-07 10:48:51,667 - DEBUG - _api.py - Lock 2432863209296 released on c:\\Users\\erdrr\\OneDrive\\Desktop\\KB\\Projects\\GameWeaverAI\\models\\dunzhang\\stella_en_1.5B_v5\\.cache\\huggingface\\download\\2_Dense_4096\\model.safetensors.lock\n",
      "2024-09-07 10:48:51,669 - DEBUG - _api.py - Attempting to acquire lock 2432863182480 on c:\\Users\\erdrr\\OneDrive\\Desktop\\KB\\Projects\\GameWeaverAI\\models\\dunzhang\\stella_en_1.5B_v5\\.cache\\huggingface\\download\\2_Dense_6144\\model.safetensors.lock\n",
      "2024-09-07 10:48:51,670 - DEBUG - _api.py - Attempting to acquire lock 2432863219408 on c:\\Users\\erdrr\\OneDrive\\Desktop\\KB\\Projects\\GameWeaverAI\\models\\dunzhang\\stella_en_1.5B_v5\\.cache\\huggingface\\download\\2_Dense_6144\\config.json.lock\n",
      "2024-09-07 10:48:51,671 - DEBUG - _api.py - Attempting to acquire lock 2432863189200 on c:\\Users\\erdrr\\OneDrive\\Desktop\\KB\\Projects\\GameWeaverAI\\models\\dunzhang\\stella_en_1.5B_v5\\.cache\\huggingface\\download\\2_Dense_6144\\pytorch_model.bin.lock\n",
      "2024-09-07 10:48:51,671 - DEBUG - _api.py - Attempting to acquire lock 2432863210448 on c:\\Users\\erdrr\\OneDrive\\Desktop\\KB\\Projects\\GameWeaverAI\\models\\dunzhang\\stella_en_1.5B_v5\\.cache\\huggingface\\download\\2_Dense_768\\config.json.lock\n",
      "2024-09-07 10:48:51,672 - DEBUG - _api.py - Attempting to acquire lock 2432862870672 on c:\\Users\\erdrr\\OneDrive\\Desktop\\KB\\Projects\\GameWeaverAI\\models\\dunzhang\\stella_en_1.5B_v5\\.cache\\huggingface\\download\\2_Dense_768\\model.safetensors.lock\n",
      "2024-09-07 10:48:51,672 - DEBUG - _api.py - Attempting to release lock 2432863183120 on c:\\Users\\erdrr\\OneDrive\\Desktop\\KB\\Projects\\GameWeaverAI\\models\\dunzhang\\stella_en_1.5B_v5\\.cache\\huggingface\\download\\2_Dense_4096\\pytorch_model.bin.lock\n",
      "2024-09-07 10:48:51,673 - DEBUG - _api.py - Attempting to acquire lock 2432862866000 on c:\\Users\\erdrr\\OneDrive\\Desktop\\KB\\Projects\\GameWeaverAI\\models\\dunzhang\\stella_en_1.5B_v5\\.cache\\huggingface\\download\\2_Dense_768\\pytorch_model.bin.lock\n",
      "2024-09-07 10:48:51,674 - DEBUG - _api.py - Attempting to acquire lock 2432862865488 on c:\\Users\\erdrr\\OneDrive\\Desktop\\KB\\Projects\\GameWeaverAI\\models\\dunzhang\\stella_en_1.5B_v5\\.cache\\huggingface\\download\\2_Dense_8192\\config.json.lock\n",
      "2024-09-07 10:48:51,675 - DEBUG - _api.py - Lock 2432863219408 acquired on c:\\Users\\erdrr\\OneDrive\\Desktop\\KB\\Projects\\GameWeaverAI\\models\\dunzhang\\stella_en_1.5B_v5\\.cache\\huggingface\\download\\2_Dense_6144\\config.json.lock\n",
      "2024-09-07 10:48:51,675 - DEBUG - _api.py - Lock 2432863182480 acquired on c:\\Users\\erdrr\\OneDrive\\Desktop\\KB\\Projects\\GameWeaverAI\\models\\dunzhang\\stella_en_1.5B_v5\\.cache\\huggingface\\download\\2_Dense_6144\\model.safetensors.lock\n",
      "2024-09-07 10:48:51,676 - DEBUG - _api.py - Lock 2432863189200 acquired on c:\\Users\\erdrr\\OneDrive\\Desktop\\KB\\Projects\\GameWeaverAI\\models\\dunzhang\\stella_en_1.5B_v5\\.cache\\huggingface\\download\\2_Dense_6144\\pytorch_model.bin.lock\n",
      "2024-09-07 10:48:51,676 - DEBUG - _api.py - Lock 2432863210448 acquired on c:\\Users\\erdrr\\OneDrive\\Desktop\\KB\\Projects\\GameWeaverAI\\models\\dunzhang\\stella_en_1.5B_v5\\.cache\\huggingface\\download\\2_Dense_768\\config.json.lock\n",
      "2024-09-07 10:48:51,677 - DEBUG - _api.py - Lock 2432862870672 acquired on c:\\Users\\erdrr\\OneDrive\\Desktop\\KB\\Projects\\GameWeaverAI\\models\\dunzhang\\stella_en_1.5B_v5\\.cache\\huggingface\\download\\2_Dense_768\\model.safetensors.lock\n",
      "2024-09-07 10:48:51,677 - DEBUG - _api.py - Lock 2432863183120 released on c:\\Users\\erdrr\\OneDrive\\Desktop\\KB\\Projects\\GameWeaverAI\\models\\dunzhang\\stella_en_1.5B_v5\\.cache\\huggingface\\download\\2_Dense_4096\\pytorch_model.bin.lock\n",
      "2024-09-07 10:48:51,679 - DEBUG - _api.py - Lock 2432862866000 acquired on c:\\Users\\erdrr\\OneDrive\\Desktop\\KB\\Projects\\GameWeaverAI\\models\\dunzhang\\stella_en_1.5B_v5\\.cache\\huggingface\\download\\2_Dense_768\\pytorch_model.bin.lock\n",
      "2024-09-07 10:48:51,679 - DEBUG - _api.py - Lock 2432862865488 acquired on c:\\Users\\erdrr\\OneDrive\\Desktop\\KB\\Projects\\GameWeaverAI\\models\\dunzhang\\stella_en_1.5B_v5\\.cache\\huggingface\\download\\2_Dense_8192\\config.json.lock\n",
      "2024-09-07 10:48:51,680 - DEBUG - _api.py - Attempting to release lock 2432863219408 on c:\\Users\\erdrr\\OneDrive\\Desktop\\KB\\Projects\\GameWeaverAI\\models\\dunzhang\\stella_en_1.5B_v5\\.cache\\huggingface\\download\\2_Dense_6144\\config.json.lock\n",
      "2024-09-07 10:48:51,682 - DEBUG - _api.py - Attempting to release lock 2432863182480 on c:\\Users\\erdrr\\OneDrive\\Desktop\\KB\\Projects\\GameWeaverAI\\models\\dunzhang\\stella_en_1.5B_v5\\.cache\\huggingface\\download\\2_Dense_6144\\model.safetensors.lock\n",
      "2024-09-07 10:48:51,682 - DEBUG - _api.py - Attempting to release lock 2432863189200 on c:\\Users\\erdrr\\OneDrive\\Desktop\\KB\\Projects\\GameWeaverAI\\models\\dunzhang\\stella_en_1.5B_v5\\.cache\\huggingface\\download\\2_Dense_6144\\pytorch_model.bin.lock\n",
      "2024-09-07 10:48:51,683 - DEBUG - _api.py - Attempting to release lock 2432863210448 on c:\\Users\\erdrr\\OneDrive\\Desktop\\KB\\Projects\\GameWeaverAI\\models\\dunzhang\\stella_en_1.5B_v5\\.cache\\huggingface\\download\\2_Dense_768\\config.json.lock\n",
      "2024-09-07 10:48:51,684 - DEBUG - _api.py - Attempting to release lock 2432862870672 on c:\\Users\\erdrr\\OneDrive\\Desktop\\KB\\Projects\\GameWeaverAI\\models\\dunzhang\\stella_en_1.5B_v5\\.cache\\huggingface\\download\\2_Dense_768\\model.safetensors.lock\n",
      "2024-09-07 10:48:51,684 - DEBUG - _api.py - Attempting to acquire lock 2432862868496 on c:\\Users\\erdrr\\OneDrive\\Desktop\\KB\\Projects\\GameWeaverAI\\models\\dunzhang\\stella_en_1.5B_v5\\.cache\\huggingface\\download\\2_Dense_8192\\model.safetensors.lock\n",
      "2024-09-07 10:48:51,685 - DEBUG - _api.py - Attempting to release lock 2432862866000 on c:\\Users\\erdrr\\OneDrive\\Desktop\\KB\\Projects\\GameWeaverAI\\models\\dunzhang\\stella_en_1.5B_v5\\.cache\\huggingface\\download\\2_Dense_768\\pytorch_model.bin.lock\n",
      "2024-09-07 10:48:51,685 - DEBUG - _api.py - Attempting to release lock 2432862865488 on c:\\Users\\erdrr\\OneDrive\\Desktop\\KB\\Projects\\GameWeaverAI\\models\\dunzhang\\stella_en_1.5B_v5\\.cache\\huggingface\\download\\2_Dense_8192\\config.json.lock\n",
      "2024-09-07 10:48:51,686 - DEBUG - _api.py - Lock 2432863219408 released on c:\\Users\\erdrr\\OneDrive\\Desktop\\KB\\Projects\\GameWeaverAI\\models\\dunzhang\\stella_en_1.5B_v5\\.cache\\huggingface\\download\\2_Dense_6144\\config.json.lock\n",
      "2024-09-07 10:48:51,686 - DEBUG - _api.py - Lock 2432863182480 released on c:\\Users\\erdrr\\OneDrive\\Desktop\\KB\\Projects\\GameWeaverAI\\models\\dunzhang\\stella_en_1.5B_v5\\.cache\\huggingface\\download\\2_Dense_6144\\model.safetensors.lock\n",
      "2024-09-07 10:48:51,687 - DEBUG - _api.py - Lock 2432863189200 released on c:\\Users\\erdrr\\OneDrive\\Desktop\\KB\\Projects\\GameWeaverAI\\models\\dunzhang\\stella_en_1.5B_v5\\.cache\\huggingface\\download\\2_Dense_6144\\pytorch_model.bin.lock\n",
      "2024-09-07 10:48:51,687 - DEBUG - _api.py - Lock 2432863210448 released on c:\\Users\\erdrr\\OneDrive\\Desktop\\KB\\Projects\\GameWeaverAI\\models\\dunzhang\\stella_en_1.5B_v5\\.cache\\huggingface\\download\\2_Dense_768\\config.json.lock\n",
      "2024-09-07 10:48:51,687 - DEBUG - _api.py - Lock 2432862870672 released on c:\\Users\\erdrr\\OneDrive\\Desktop\\KB\\Projects\\GameWeaverAI\\models\\dunzhang\\stella_en_1.5B_v5\\.cache\\huggingface\\download\\2_Dense_768\\model.safetensors.lock\n",
      "2024-09-07 10:48:51,688 - DEBUG - _api.py - Lock 2432862868496 acquired on c:\\Users\\erdrr\\OneDrive\\Desktop\\KB\\Projects\\GameWeaverAI\\models\\dunzhang\\stella_en_1.5B_v5\\.cache\\huggingface\\download\\2_Dense_8192\\model.safetensors.lock\n",
      "2024-09-07 10:48:51,689 - DEBUG - _api.py - Lock 2432862866000 released on c:\\Users\\erdrr\\OneDrive\\Desktop\\KB\\Projects\\GameWeaverAI\\models\\dunzhang\\stella_en_1.5B_v5\\.cache\\huggingface\\download\\2_Dense_768\\pytorch_model.bin.lock\n",
      "2024-09-07 10:48:51,689 - DEBUG - _api.py - Lock 2432862865488 released on c:\\Users\\erdrr\\OneDrive\\Desktop\\KB\\Projects\\GameWeaverAI\\models\\dunzhang\\stella_en_1.5B_v5\\.cache\\huggingface\\download\\2_Dense_8192\\config.json.lock\n",
      "2024-09-07 10:48:51,691 - DEBUG - _api.py - Attempting to acquire lock 2432862870928 on c:\\Users\\erdrr\\OneDrive\\Desktop\\KB\\Projects\\GameWeaverAI\\models\\dunzhang\\stella_en_1.5B_v5\\.cache\\huggingface\\download\\2_Dense_8192\\pytorch_model.bin.lock\n",
      "2024-09-07 10:48:51,691 - DEBUG - _api.py - Attempting to acquire lock 2432863275600 on c:\\Users\\erdrr\\OneDrive\\Desktop\\KB\\Projects\\GameWeaverAI\\models\\dunzhang\\stella_en_1.5B_v5\\.cache\\huggingface\\download\\README.md.lock\n",
      "2024-09-07 10:48:51,692 - DEBUG - _api.py - Attempting to acquire lock 2432863098384 on c:\\Users\\erdrr\\OneDrive\\Desktop\\KB\\Projects\\GameWeaverAI\\models\\dunzhang\\stella_en_1.5B_v5\\.cache\\huggingface\\download\\added_tokens.json.lock\n",
      "2024-09-07 10:48:51,693 - DEBUG - _api.py - Attempting to acquire lock 2432863274832 on c:\\Users\\erdrr\\OneDrive\\Desktop\\KB\\Projects\\GameWeaverAI\\models\\dunzhang\\stella_en_1.5B_v5\\.cache\\huggingface\\download\\config.json.lock\n",
      "2024-09-07 10:48:51,694 - DEBUG - _api.py - Attempting to acquire lock 2432863094672 on c:\\Users\\erdrr\\OneDrive\\Desktop\\KB\\Projects\\GameWeaverAI\\models\\dunzhang\\stella_en_1.5B_v5\\.cache\\huggingface\\download\\config_sentence_transformers.json.lock\n",
      "2024-09-07 10:48:51,695 - DEBUG - _api.py - Attempting to release lock 2432862868496 on c:\\Users\\erdrr\\OneDrive\\Desktop\\KB\\Projects\\GameWeaverAI\\models\\dunzhang\\stella_en_1.5B_v5\\.cache\\huggingface\\download\\2_Dense_8192\\model.safetensors.lock\n",
      "2024-09-07 10:48:51,695 - DEBUG - _api.py - Attempting to acquire lock 2432863209296 on c:\\Users\\erdrr\\OneDrive\\Desktop\\KB\\Projects\\GameWeaverAI\\models\\dunzhang\\stella_en_1.5B_v5\\.cache\\huggingface\\download\\model.safetensors.lock\n",
      "2024-09-07 10:48:51,695 - DEBUG - _api.py - Attempting to acquire lock 2432862872720 on c:\\Users\\erdrr\\OneDrive\\Desktop\\KB\\Projects\\GameWeaverAI\\models\\dunzhang\\stella_en_1.5B_v5\\.cache\\huggingface\\download\\merges.txt.lock\n",
      "2024-09-07 10:48:51,696 - DEBUG - _api.py - Lock 2432862870928 acquired on c:\\Users\\erdrr\\OneDrive\\Desktop\\KB\\Projects\\GameWeaverAI\\models\\dunzhang\\stella_en_1.5B_v5\\.cache\\huggingface\\download\\2_Dense_8192\\pytorch_model.bin.lock\n",
      "2024-09-07 10:48:51,697 - DEBUG - _api.py - Lock 2432863275600 acquired on c:\\Users\\erdrr\\OneDrive\\Desktop\\KB\\Projects\\GameWeaverAI\\models\\dunzhang\\stella_en_1.5B_v5\\.cache\\huggingface\\download\\README.md.lock\n",
      "2024-09-07 10:48:51,698 - DEBUG - _api.py - Lock 2432863098384 acquired on c:\\Users\\erdrr\\OneDrive\\Desktop\\KB\\Projects\\GameWeaverAI\\models\\dunzhang\\stella_en_1.5B_v5\\.cache\\huggingface\\download\\added_tokens.json.lock\n",
      "2024-09-07 10:48:51,699 - DEBUG - _api.py - Lock 2432863274832 acquired on c:\\Users\\erdrr\\OneDrive\\Desktop\\KB\\Projects\\GameWeaverAI\\models\\dunzhang\\stella_en_1.5B_v5\\.cache\\huggingface\\download\\config.json.lock\n",
      "2024-09-07 10:48:51,699 - DEBUG - _api.py - Lock 2432863094672 acquired on c:\\Users\\erdrr\\OneDrive\\Desktop\\KB\\Projects\\GameWeaverAI\\models\\dunzhang\\stella_en_1.5B_v5\\.cache\\huggingface\\download\\config_sentence_transformers.json.lock\n",
      "2024-09-07 10:48:51,699 - DEBUG - _api.py - Lock 2432862868496 released on c:\\Users\\erdrr\\OneDrive\\Desktop\\KB\\Projects\\GameWeaverAI\\models\\dunzhang\\stella_en_1.5B_v5\\.cache\\huggingface\\download\\2_Dense_8192\\model.safetensors.lock\n",
      "2024-09-07 10:48:51,701 - DEBUG - _api.py - Lock 2432863209296 acquired on c:\\Users\\erdrr\\OneDrive\\Desktop\\KB\\Projects\\GameWeaverAI\\models\\dunzhang\\stella_en_1.5B_v5\\.cache\\huggingface\\download\\model.safetensors.lock\n",
      "2024-09-07 10:48:51,701 - DEBUG - _api.py - Lock 2432862872720 acquired on c:\\Users\\erdrr\\OneDrive\\Desktop\\KB\\Projects\\GameWeaverAI\\models\\dunzhang\\stella_en_1.5B_v5\\.cache\\huggingface\\download\\merges.txt.lock\n",
      "2024-09-07 10:48:51,702 - DEBUG - _api.py - Attempting to release lock 2432862870928 on c:\\Users\\erdrr\\OneDrive\\Desktop\\KB\\Projects\\GameWeaverAI\\models\\dunzhang\\stella_en_1.5B_v5\\.cache\\huggingface\\download\\2_Dense_8192\\pytorch_model.bin.lock\n",
      "2024-09-07 10:48:51,702 - DEBUG - _api.py - Attempting to release lock 2432863275600 on c:\\Users\\erdrr\\OneDrive\\Desktop\\KB\\Projects\\GameWeaverAI\\models\\dunzhang\\stella_en_1.5B_v5\\.cache\\huggingface\\download\\README.md.lock\n",
      "2024-09-07 10:48:51,703 - DEBUG - _api.py - Attempting to release lock 2432863098384 on c:\\Users\\erdrr\\OneDrive\\Desktop\\KB\\Projects\\GameWeaverAI\\models\\dunzhang\\stella_en_1.5B_v5\\.cache\\huggingface\\download\\added_tokens.json.lock\n",
      "2024-09-07 10:48:51,703 - DEBUG - _api.py - Attempting to release lock 2432863274832 on c:\\Users\\erdrr\\OneDrive\\Desktop\\KB\\Projects\\GameWeaverAI\\models\\dunzhang\\stella_en_1.5B_v5\\.cache\\huggingface\\download\\config.json.lock\n",
      "2024-09-07 10:48:51,704 - DEBUG - _api.py - Attempting to release lock 2432863094672 on c:\\Users\\erdrr\\OneDrive\\Desktop\\KB\\Projects\\GameWeaverAI\\models\\dunzhang\\stella_en_1.5B_v5\\.cache\\huggingface\\download\\config_sentence_transformers.json.lock\n",
      "2024-09-07 10:48:51,705 - DEBUG - _api.py - Attempting to acquire lock 2432862878608 on c:\\Users\\erdrr\\OneDrive\\Desktop\\KB\\Projects\\GameWeaverAI\\models\\dunzhang\\stella_en_1.5B_v5\\.cache\\huggingface\\download\\modeling_qwen.py.lock\n",
      "2024-09-07 10:48:51,706 - DEBUG - _api.py - Attempting to release lock 2432863209296 on c:\\Users\\erdrr\\OneDrive\\Desktop\\KB\\Projects\\GameWeaverAI\\models\\dunzhang\\stella_en_1.5B_v5\\.cache\\huggingface\\download\\model.safetensors.lock\n",
      "2024-09-07 10:48:51,706 - DEBUG - _api.py - Lock 2432862870928 released on c:\\Users\\erdrr\\OneDrive\\Desktop\\KB\\Projects\\GameWeaverAI\\models\\dunzhang\\stella_en_1.5B_v5\\.cache\\huggingface\\download\\2_Dense_8192\\pytorch_model.bin.lock\n",
      "2024-09-07 10:48:51,707 - DEBUG - _api.py - Attempting to release lock 2432862872720 on c:\\Users\\erdrr\\OneDrive\\Desktop\\KB\\Projects\\GameWeaverAI\\models\\dunzhang\\stella_en_1.5B_v5\\.cache\\huggingface\\download\\merges.txt.lock\n",
      "2024-09-07 10:48:51,707 - DEBUG - _api.py - Lock 2432863275600 released on c:\\Users\\erdrr\\OneDrive\\Desktop\\KB\\Projects\\GameWeaverAI\\models\\dunzhang\\stella_en_1.5B_v5\\.cache\\huggingface\\download\\README.md.lock\n",
      "2024-09-07 10:48:51,708 - DEBUG - _api.py - Lock 2432863098384 released on c:\\Users\\erdrr\\OneDrive\\Desktop\\KB\\Projects\\GameWeaverAI\\models\\dunzhang\\stella_en_1.5B_v5\\.cache\\huggingface\\download\\added_tokens.json.lock\n",
      "2024-09-07 10:48:51,708 - DEBUG - _api.py - Lock 2432863274832 released on c:\\Users\\erdrr\\OneDrive\\Desktop\\KB\\Projects\\GameWeaverAI\\models\\dunzhang\\stella_en_1.5B_v5\\.cache\\huggingface\\download\\config.json.lock\n",
      "2024-09-07 10:48:51,709 - DEBUG - _api.py - Lock 2432863094672 released on c:\\Users\\erdrr\\OneDrive\\Desktop\\KB\\Projects\\GameWeaverAI\\models\\dunzhang\\stella_en_1.5B_v5\\.cache\\huggingface\\download\\config_sentence_transformers.json.lock\n",
      "2024-09-07 10:48:51,710 - DEBUG - _api.py - Lock 2432863209296 released on c:\\Users\\erdrr\\OneDrive\\Desktop\\KB\\Projects\\GameWeaverAI\\models\\dunzhang\\stella_en_1.5B_v5\\.cache\\huggingface\\download\\model.safetensors.lock\n",
      "2024-09-07 10:48:51,711 - DEBUG - _api.py - Lock 2432862878608 acquired on c:\\Users\\erdrr\\OneDrive\\Desktop\\KB\\Projects\\GameWeaverAI\\models\\dunzhang\\stella_en_1.5B_v5\\.cache\\huggingface\\download\\modeling_qwen.py.lock\n",
      "2024-09-07 10:48:51,712 - DEBUG - _api.py - Attempting to acquire lock 2432863080016 on c:\\Users\\erdrr\\OneDrive\\Desktop\\KB\\Projects\\GameWeaverAI\\models\\dunzhang\\stella_en_1.5B_v5\\.cache\\huggingface\\download\\modules.json.lock\n",
      "2024-09-07 10:48:51,712 - DEBUG - _api.py - Lock 2432862872720 released on c:\\Users\\erdrr\\OneDrive\\Desktop\\KB\\Projects\\GameWeaverAI\\models\\dunzhang\\stella_en_1.5B_v5\\.cache\\huggingface\\download\\merges.txt.lock\n",
      "2024-09-07 10:48:51,713 - DEBUG - _api.py - Attempting to acquire lock 2432863176272 on c:\\Users\\erdrr\\OneDrive\\Desktop\\KB\\Projects\\GameWeaverAI\\models\\dunzhang\\stella_en_1.5B_v5\\.cache\\huggingface\\download\\pytorch_model.bin.lock\n",
      "2024-09-07 10:48:51,713 - DEBUG - _api.py - Attempting to acquire lock 2432863080720 on c:\\Users\\erdrr\\OneDrive\\Desktop\\KB\\Projects\\GameWeaverAI\\models\\dunzhang\\stella_en_1.5B_v5\\.cache\\huggingface\\download\\sentence_bert_config.json.lock\n",
      "2024-09-07 10:48:51,714 - DEBUG - _api.py - Attempting to acquire lock 2432863080976 on c:\\Users\\erdrr\\OneDrive\\Desktop\\KB\\Projects\\GameWeaverAI\\models\\dunzhang\\stella_en_1.5B_v5\\.cache\\huggingface\\download\\special_tokens_map.json.lock\n",
      "2024-09-07 10:48:51,716 - DEBUG - _api.py - Attempting to acquire lock 2432863096720 on c:\\Users\\erdrr\\OneDrive\\Desktop\\KB\\Projects\\GameWeaverAI\\models\\dunzhang\\stella_en_1.5B_v5\\.cache\\huggingface\\download\\tokenization_qwen.py.lock\n",
      "2024-09-07 10:48:51,716 - DEBUG - _api.py - Attempting to acquire lock 2432863077264 on c:\\Users\\erdrr\\OneDrive\\Desktop\\KB\\Projects\\GameWeaverAI\\models\\dunzhang\\stella_en_1.5B_v5\\.cache\\huggingface\\download\\tokenizer.json.lock\n",
      "2024-09-07 10:48:51,716 - DEBUG - _api.py - Attempting to release lock 2432862878608 on c:\\Users\\erdrr\\OneDrive\\Desktop\\KB\\Projects\\GameWeaverAI\\models\\dunzhang\\stella_en_1.5B_v5\\.cache\\huggingface\\download\\modeling_qwen.py.lock\n",
      "2024-09-07 10:48:51,717 - DEBUG - _api.py - Lock 2432863080016 acquired on c:\\Users\\erdrr\\OneDrive\\Desktop\\KB\\Projects\\GameWeaverAI\\models\\dunzhang\\stella_en_1.5B_v5\\.cache\\huggingface\\download\\modules.json.lock\n",
      "2024-09-07 10:48:51,718 - DEBUG - _api.py - Attempting to acquire lock 2432863189584 on c:\\Users\\erdrr\\OneDrive\\Desktop\\KB\\Projects\\GameWeaverAI\\models\\dunzhang\\stella_en_1.5B_v5\\.cache\\huggingface\\download\\tokenizer_config.json.lock\n",
      "2024-09-07 10:48:51,719 - DEBUG - _api.py - Lock 2432863176272 acquired on c:\\Users\\erdrr\\OneDrive\\Desktop\\KB\\Projects\\GameWeaverAI\\models\\dunzhang\\stella_en_1.5B_v5\\.cache\\huggingface\\download\\pytorch_model.bin.lock\n",
      "2024-09-07 10:48:51,719 - DEBUG - _api.py - Lock 2432863080720 acquired on c:\\Users\\erdrr\\OneDrive\\Desktop\\KB\\Projects\\GameWeaverAI\\models\\dunzhang\\stella_en_1.5B_v5\\.cache\\huggingface\\download\\sentence_bert_config.json.lock\n",
      "2024-09-07 10:48:51,720 - DEBUG - _api.py - Lock 2432863080976 acquired on c:\\Users\\erdrr\\OneDrive\\Desktop\\KB\\Projects\\GameWeaverAI\\models\\dunzhang\\stella_en_1.5B_v5\\.cache\\huggingface\\download\\special_tokens_map.json.lock\n",
      "2024-09-07 10:48:51,720 - DEBUG - _api.py - Lock 2432863096720 acquired on c:\\Users\\erdrr\\OneDrive\\Desktop\\KB\\Projects\\GameWeaverAI\\models\\dunzhang\\stella_en_1.5B_v5\\.cache\\huggingface\\download\\tokenization_qwen.py.lock\n",
      "2024-09-07 10:48:51,721 - DEBUG - _api.py - Lock 2432862878608 released on c:\\Users\\erdrr\\OneDrive\\Desktop\\KB\\Projects\\GameWeaverAI\\models\\dunzhang\\stella_en_1.5B_v5\\.cache\\huggingface\\download\\modeling_qwen.py.lock\n",
      "2024-09-07 10:48:51,722 - DEBUG - _api.py - Lock 2432863077264 acquired on c:\\Users\\erdrr\\OneDrive\\Desktop\\KB\\Projects\\GameWeaverAI\\models\\dunzhang\\stella_en_1.5B_v5\\.cache\\huggingface\\download\\tokenizer.json.lock\n",
      "2024-09-07 10:48:51,722 - DEBUG - _api.py - Attempting to release lock 2432863080016 on c:\\Users\\erdrr\\OneDrive\\Desktop\\KB\\Projects\\GameWeaverAI\\models\\dunzhang\\stella_en_1.5B_v5\\.cache\\huggingface\\download\\modules.json.lock\n",
      "2024-09-07 10:48:51,723 - DEBUG - _api.py - Lock 2432863189584 acquired on c:\\Users\\erdrr\\OneDrive\\Desktop\\KB\\Projects\\GameWeaverAI\\models\\dunzhang\\stella_en_1.5B_v5\\.cache\\huggingface\\download\\tokenizer_config.json.lock\n",
      "2024-09-07 10:48:51,723 - DEBUG - _api.py - Attempting to release lock 2432863176272 on c:\\Users\\erdrr\\OneDrive\\Desktop\\KB\\Projects\\GameWeaverAI\\models\\dunzhang\\stella_en_1.5B_v5\\.cache\\huggingface\\download\\pytorch_model.bin.lock\n",
      "2024-09-07 10:48:51,724 - DEBUG - _api.py - Attempting to release lock 2432863080720 on c:\\Users\\erdrr\\OneDrive\\Desktop\\KB\\Projects\\GameWeaverAI\\models\\dunzhang\\stella_en_1.5B_v5\\.cache\\huggingface\\download\\sentence_bert_config.json.lock\n",
      "2024-09-07 10:48:51,725 - DEBUG - _api.py - Attempting to release lock 2432863080976 on c:\\Users\\erdrr\\OneDrive\\Desktop\\KB\\Projects\\GameWeaverAI\\models\\dunzhang\\stella_en_1.5B_v5\\.cache\\huggingface\\download\\special_tokens_map.json.lock\n",
      "2024-09-07 10:48:51,726 - DEBUG - _api.py - Attempting to acquire lock 2437163624016 on c:\\Users\\erdrr\\OneDrive\\Desktop\\KB\\Projects\\GameWeaverAI\\models\\dunzhang\\stella_en_1.5B_v5\\.cache\\huggingface\\download\\vocab.json.lock\n",
      "2024-09-07 10:48:51,726 - DEBUG - _api.py - Attempting to release lock 2432863096720 on c:\\Users\\erdrr\\OneDrive\\Desktop\\KB\\Projects\\GameWeaverAI\\models\\dunzhang\\stella_en_1.5B_v5\\.cache\\huggingface\\download\\tokenization_qwen.py.lock\n",
      "2024-09-07 10:48:51,727 - DEBUG - _api.py - Attempting to release lock 2432863077264 on c:\\Users\\erdrr\\OneDrive\\Desktop\\KB\\Projects\\GameWeaverAI\\models\\dunzhang\\stella_en_1.5B_v5\\.cache\\huggingface\\download\\tokenizer.json.lock\n",
      "2024-09-07 10:48:51,727 - DEBUG - _api.py - Lock 2432863080016 released on c:\\Users\\erdrr\\OneDrive\\Desktop\\KB\\Projects\\GameWeaverAI\\models\\dunzhang\\stella_en_1.5B_v5\\.cache\\huggingface\\download\\modules.json.lock\n",
      "2024-09-07 10:48:51,728 - DEBUG - _api.py - Attempting to release lock 2432863189584 on c:\\Users\\erdrr\\OneDrive\\Desktop\\KB\\Projects\\GameWeaverAI\\models\\dunzhang\\stella_en_1.5B_v5\\.cache\\huggingface\\download\\tokenizer_config.json.lock\n",
      "Fetching 41 files:  83%|████████▎ | 34/41 [00:00<00:00, 321.38it/s]2024-09-07 10:48:51,728 - DEBUG - _api.py - Lock 2432863176272 released on c:\\Users\\erdrr\\OneDrive\\Desktop\\KB\\Projects\\GameWeaverAI\\models\\dunzhang\\stella_en_1.5B_v5\\.cache\\huggingface\\download\\pytorch_model.bin.lock\n",
      "2024-09-07 10:48:51,730 - DEBUG - _api.py - Lock 2432863080720 released on c:\\Users\\erdrr\\OneDrive\\Desktop\\KB\\Projects\\GameWeaverAI\\models\\dunzhang\\stella_en_1.5B_v5\\.cache\\huggingface\\download\\sentence_bert_config.json.lock\n",
      "2024-09-07 10:48:51,730 - DEBUG - _api.py - Lock 2432863080976 released on c:\\Users\\erdrr\\OneDrive\\Desktop\\KB\\Projects\\GameWeaverAI\\models\\dunzhang\\stella_en_1.5B_v5\\.cache\\huggingface\\download\\special_tokens_map.json.lock\n",
      "2024-09-07 10:48:51,731 - DEBUG - _api.py - Lock 2437163624016 acquired on c:\\Users\\erdrr\\OneDrive\\Desktop\\KB\\Projects\\GameWeaverAI\\models\\dunzhang\\stella_en_1.5B_v5\\.cache\\huggingface\\download\\vocab.json.lock\n",
      "2024-09-07 10:48:51,731 - DEBUG - _api.py - Lock 2432863096720 released on c:\\Users\\erdrr\\OneDrive\\Desktop\\KB\\Projects\\GameWeaverAI\\models\\dunzhang\\stella_en_1.5B_v5\\.cache\\huggingface\\download\\tokenization_qwen.py.lock\n",
      "2024-09-07 10:48:51,732 - DEBUG - _api.py - Lock 2432863077264 released on c:\\Users\\erdrr\\OneDrive\\Desktop\\KB\\Projects\\GameWeaverAI\\models\\dunzhang\\stella_en_1.5B_v5\\.cache\\huggingface\\download\\tokenizer.json.lock\n",
      "2024-09-07 10:48:51,733 - DEBUG - _api.py - Lock 2432863189584 released on c:\\Users\\erdrr\\OneDrive\\Desktop\\KB\\Projects\\GameWeaverAI\\models\\dunzhang\\stella_en_1.5B_v5\\.cache\\huggingface\\download\\tokenizer_config.json.lock\n",
      "2024-09-07 10:48:51,735 - DEBUG - _api.py - Attempting to release lock 2437163624016 on c:\\Users\\erdrr\\OneDrive\\Desktop\\KB\\Projects\\GameWeaverAI\\models\\dunzhang\\stella_en_1.5B_v5\\.cache\\huggingface\\download\\vocab.json.lock\n",
      "2024-09-07 10:48:51,737 - DEBUG - _api.py - Lock 2437163624016 released on c:\\Users\\erdrr\\OneDrive\\Desktop\\KB\\Projects\\GameWeaverAI\\models\\dunzhang\\stella_en_1.5B_v5\\.cache\\huggingface\\download\\vocab.json.lock\n",
      "Fetching 41 files: 100%|██████████| 41/41 [00:00<00:00, 366.70it/s]\n"
     ]
    },
    {
     "name": "stdout",
     "output_type": "stream",
     "text": [
      "Model 'dunzhang/stella_en_1.5B_v5' is available at C:\\Users\\erdrr\\OneDrive\\Desktop\\KB\\Projects\\gameweaverai\\models\\dunzhang\\stella_en_1.5B_v5\n"
     ]
    },
    {
     "name": "stderr",
     "output_type": "stream",
     "text": [
      "2024-09-07 10:48:55,185 - INFO - retrieve_data.py - Fetching metadata prompt for game ID: 1\n",
      "2024-09-07 10:48:55,186 - INFO - retrieve_data.py - Fetching document metadata for game ID: 1\n",
      "2024-09-07 10:48:55,187 - DEBUG - retrieve_data.py - Found game: Tic Tac Toe with ID: 1\n",
      "2024-09-07 10:48:55,188 - DEBUG - retrieve_data.py - All Documents: {'ids': ['Tic Tac Toe_End_of_Game:_0', 'Tic Tac Toe_End_of_Game:_1', 'Tic Tac Toe_End_of_Game:_2', 'Tic Tac Toe_Game_Setup:_0', 'Tic Tac Toe_Game_Strategy:_0', 'Tic Tac Toe_Game_Strategy:_1', 'Tic Tac Toe_Game_Strategy:_2', 'Tic Tac Toe_How_to_Play:_0', 'Tic Tac Toe_How_to_Play:_1', 'Tic Tac Toe_Overview:_0', 'Tic Tac Toe_Winning_the_Game:_0', 'Tic Tac Toe_Winning_the_Game:_1'], 'embeddings': None, 'metadatas': [{'Chunk_Text': '- The game ends when either a player wins or the grid is completely ﬁlled with no winner. - Players can choose to play multiple rounds and keep score of wins, losses, and draws. Multiplayer Mode: - In multiplayer mode, two human players alternate turns. - If playing against an AI, the AI will take', 'Game_ID': '1', 'Game_Name': 'Tic Tac Toe', 'Section_name': 'End of Game', 'Text': '- The game ends when either a player wins or the grid is completely ﬁlled with no winner. - Players can choose to play multiple rounds and keep score of wins, losses, and draws. Multiplayer Mode: - In multiplayer mode, two human players alternate turns. - If playing against an AI, the AI will take over Player 2’s role and will make decisions based on predeﬁned strategies. Single Player Mode: - The player competes against an AI agent. - The AI agent’s diﬃculty can be adjusted to make it more challenging. Example Game: ``` |   | X | O | ----------- | X | O | X | O ----------- O |   | X ``` - In the above example, Player 1 (X) wins with a diagonal line.'}, {'Chunk_Text': '- If playing against an AI, the AI will take over Player 2’s role and will make decisions based on predeﬁned strategies. Single Player Mode: - The player competes against an AI agent. - The AI agent’s diﬃculty can be adjusted to make it more challenging. Example Game: ``` |   | X | O | -----------', 'Game_ID': '1', 'Game_Name': 'Tic Tac Toe', 'Section_name': 'End of Game', 'Text': '- The game ends when either a player wins or the grid is completely ﬁlled with no winner. - Players can choose to play multiple rounds and keep score of wins, losses, and draws. Multiplayer Mode: - In multiplayer mode, two human players alternate turns. - If playing against an AI, the AI will take over Player 2’s role and will make decisions based on predeﬁned strategies. Single Player Mode: - The player competes against an AI agent. - The AI agent’s diﬃculty can be adjusted to make it more challenging. Example Game: ``` |   | X | O | ----------- | X | O | X | O ----------- O |   | X ``` - In the above example, Player 1 (X) wins with a diagonal line.'}, {'Chunk_Text': 'Example Game: ``` |   | X | O | ----------- | X | O | X | O ----------- O |   | X ``` - In the above example, Player 1 (X) wins with a diagonal line.', 'Game_ID': '1', 'Game_Name': 'Tic Tac Toe', 'Section_name': 'End of Game', 'Text': '- The game ends when either a player wins or the grid is completely ﬁlled with no winner. - Players can choose to play multiple rounds and keep score of wins, losses, and draws. Multiplayer Mode: - In multiplayer mode, two human players alternate turns. - If playing against an AI, the AI will take over Player 2’s role and will make decisions based on predeﬁned strategies. Single Player Mode: - The player competes against an AI agent. - The AI agent’s diﬃculty can be adjusted to make it more challenging. Example Game: ``` |   | X | O | ----------- | X | O | X | O ----------- O |   | X ``` - In the above example, Player 1 (X) wins with a diagonal line.'}, {'Chunk_Text': '- The game is played on a 3x3 grid. - Player 1 uses the symbol \"X\" and Player 2 uses the symbol \"O\". - Players take turns placing their symbol in one of the empty squares on the grid.', 'Game_ID': '1', 'Game_Name': 'Tic Tac Toe', 'Section_name': 'Game Setup', 'Text': '- The game is played on a 3x3 grid. - Player 1 uses the symbol \"X\" and Player 2 uses the symbol \"O\". - Players take turns placing their symbol in one of the empty squares on the grid. '}, {'Chunk_Text': '- First Move:  The center square is often considered the best opening move for Player 1, as it provides the most opportunities to create a winning combination. - Blocking:  If your opponent is close to winning (e.g., they have two in a row), you should place your symbol in the empty square to block', 'Game_ID': '1', 'Game_Name': 'Tic Tac Toe', 'Section_name': 'Game Strategy', 'Text': '- First Move:  The center square is often considered the best opening move for Player 1, as it provides the most opportunities to create a winning combination. - Blocking:  If your opponent is close to winning (e.g., they have two in a row), you should place your symbol in the empty square to block their move. - Forks:  Creating a situation where you have two potential winning moves on your next turn is a strong strategy, as it forces your opponent to block one, allowing you to win with the other. Advanced Tactics: - Double Fork:  A situation where you create two forks simultaneously, making it impossible for your opponent to block both. - Center Control:  Maintaining control of the center square often leads to more winning opportunities. '}, {'Chunk_Text': 'place your symbol in the empty square to block their move. - Forks:  Creating a situation where you have two potential winning moves on your next turn is a strong strategy, as it forces your opponent to block one, allowing you to win with the other. Advanced Tactics: - Double Fork:  A situation', 'Game_ID': '1', 'Game_Name': 'Tic Tac Toe', 'Section_name': 'Game Strategy', 'Text': '- First Move:  The center square is often considered the best opening move for Player 1, as it provides the most opportunities to create a winning combination. - Blocking:  If your opponent is close to winning (e.g., they have two in a row), you should place your symbol in the empty square to block their move. - Forks:  Creating a situation where you have two potential winning moves on your next turn is a strong strategy, as it forces your opponent to block one, allowing you to win with the other. Advanced Tactics: - Double Fork:  A situation where you create two forks simultaneously, making it impossible for your opponent to block both. - Center Control:  Maintaining control of the center square often leads to more winning opportunities. '}, {'Chunk_Text': 'Advanced Tactics: - Double Fork:  A situation where you create two forks simultaneously, making it impossible for your opponent to block both. - Center Control:  Maintaining control of the center square often leads to more winning opportunities.', 'Game_ID': '1', 'Game_Name': 'Tic Tac Toe', 'Section_name': 'Game Strategy', 'Text': '- First Move:  The center square is often considered the best opening move for Player 1, as it provides the most opportunities to create a winning combination. - Blocking:  If your opponent is close to winning (e.g., they have two in a row), you should place your symbol in the empty square to block their move. - Forks:  Creating a situation where you have two potential winning moves on your next turn is a strong strategy, as it forces your opponent to block one, allowing you to win with the other. Advanced Tactics: - Double Fork:  A situation where you create two forks simultaneously, making it impossible for your opponent to block both. - Center Control:  Maintaining control of the center square often leads to more winning opportunities. '}, {'Chunk_Text': '1. The game starts with an empty 3x3 grid. 2. Player 1 (X) makes the ﬁrst move by placing their symbol in any of the 9 squares. 3. Player 2 (O) then places their symbol in one of the remaining empty squares. 4. Players continue to alternate turns until one player achieves a winning combination or', 'Game_ID': '1', 'Game_Name': 'Tic Tac Toe', 'Section_name': 'How to Play', 'Text': '1. The game starts with an empty 3x3 grid. 2. Player 1 (X) makes the ﬁrst move by placing their symbol in any of the 9 squares. 3. Player 2 (O) then places their symbol in one of the remaining empty squares. 4. Players continue to alternate turns until one player achieves a winning combination or the grid is full. '}, {'Chunk_Text': 'one player achieves a winning combination or the grid is full.', 'Game_ID': '1', 'Game_Name': 'Tic Tac Toe', 'Section_name': 'How to Play', 'Text': '1. The game starts with an empty 3x3 grid. 2. Player 1 (X) makes the ﬁrst move by placing their symbol in any of the 9 squares. 3. Player 2 (O) then places their symbol in one of the remaining empty squares. 4. Players continue to alternate turns until one player achieves a winning combination or the grid is full. '}, {'Chunk_Text': 'Tic-Tac-Toe is a simple, two -player game where the objective is to be the ﬁrst player to align three of your marks (either X or O) in a horizontal, vertical, or diagonal row on a 3x3 grid.', 'Game_ID': '1', 'Game_Name': 'Tic Tac Toe', 'Section_name': 'Overview', 'Text': 'Tic-Tac-Toe is a simple, two -player game where the objective is to be the ﬁrst player to align three of your marks (either X or O) in a horizontal, vertical, or diagonal row on a 3x3 grid.'}, {'Chunk_Text': '- A player wins by placing three of their symbols in a row, which can be: - Horizontally: Any of the three horizontal rows. - Vertically: Any of the three vertical columns. - Diagonally: Either of the two diagonal lines from corner to corner.  Draw: - The game is considered a draw if all 9 squares', 'Game_ID': '1', 'Game_Name': 'Tic Tac Toe', 'Section_name': 'Winning the Game', 'Text': '- A player wins by placing three of their symbols in a row, which can be: - Horizontally: Any of the three horizontal rows. - Vertically: Any of the three vertical columns. - Diagonally: Either of the two diagonal lines from corner to corner.  Draw: - The game is considered a draw if all 9 squares are ﬁlled and neither player has aligned three of their symbols in a row.'}, {'Chunk_Text': '- The game is considered a draw if all 9 squares are ﬁlled and neither player has aligned three of their symbols in a row.', 'Game_ID': '1', 'Game_Name': 'Tic Tac Toe', 'Section_name': 'Winning the Game', 'Text': '- A player wins by placing three of their symbols in a row, which can be: - Horizontally: Any of the three horizontal rows. - Vertically: Any of the three vertical columns. - Diagonally: Either of the two diagonal lines from corner to corner.  Draw: - The game is considered a draw if all 9 squares are ﬁlled and neither player has aligned three of their symbols in a row.'}], 'documents': ['- The game ends when either a player wins or the grid is completely ﬁlled with no winner. - Players can choose to play multiple rounds and keep score of wins, losses, and draws. Multiplayer Mode: - In multiplayer mode, two human players alternate turns. - If playing against an AI, the AI will take', '- If playing against an AI, the AI will take over Player 2’s role and will make decisions based on predeﬁned strategies. Single Player Mode: - The player competes against an AI agent. - The AI agent’s diﬃculty can be adjusted to make it more challenging. Example Game: ``` |   | X | O | -----------', 'Example Game: ``` |   | X | O | ----------- | X | O | X | O ----------- O |   | X ``` - In the above example, Player 1 (X) wins with a diagonal line.', '- The game is played on a 3x3 grid. - Player 1 uses the symbol \"X\" and Player 2 uses the symbol \"O\". - Players take turns placing their symbol in one of the empty squares on the grid.', '- First Move:  The center square is often considered the best opening move for Player 1, as it provides the most opportunities to create a winning combination. - Blocking:  If your opponent is close to winning (e.g., they have two in a row), you should place your symbol in the empty square to block', 'place your symbol in the empty square to block their move. - Forks:  Creating a situation where you have two potential winning moves on your next turn is a strong strategy, as it forces your opponent to block one, allowing you to win with the other. Advanced Tactics: - Double Fork:  A situation', 'Advanced Tactics: - Double Fork:  A situation where you create two forks simultaneously, making it impossible for your opponent to block both. - Center Control:  Maintaining control of the center square often leads to more winning opportunities.', '1. The game starts with an empty 3x3 grid. 2. Player 1 (X) makes the ﬁrst move by placing their symbol in any of the 9 squares. 3. Player 2 (O) then places their symbol in one of the remaining empty squares. 4. Players continue to alternate turns until one player achieves a winning combination or', 'one player achieves a winning combination or the grid is full.', 'Tic-Tac-Toe is a simple, two -player game where the objective is to be the ﬁrst player to align three of your marks (either X or O) in a horizontal, vertical, or diagonal row on a 3x3 grid.', '- A player wins by placing three of their symbols in a row, which can be: - Horizontally: Any of the three horizontal rows. - Vertically: Any of the three vertical columns. - Diagonally: Either of the two diagonal lines from corner to corner.  Draw: - The game is considered a draw if all 9 squares', '- The game is considered a draw if all 9 squares are ﬁlled and neither player has aligned three of their symbols in a row.'], 'uris': None, 'data': None, 'included': ['metadatas', 'documents']}\n",
      "2024-09-07 10:48:55,188 - DEBUG - retrieve_data.py - Checking chunk_id: Tic Tac Toe_End_of_Game:_0\n",
      "2024-09-07 10:48:55,189 - DEBUG - retrieve_data.py - Found Section: End of Game, Chunk: - The game ends when either a player wins or the grid is completely ﬁlled with no winner. - Players can choose to play multiple rounds and keep score of wins, losses, and draws. Multiplayer Mode: - In multiplayer mode, two human players alternate turns. - If playing against an AI, the AI will take\n",
      "2024-09-07 10:48:55,189 - DEBUG - retrieve_data.py - Checking chunk_id: Tic Tac Toe_End_of_Game:_1\n",
      "2024-09-07 10:48:55,190 - DEBUG - retrieve_data.py - Found Section: End of Game, Chunk: - If playing against an AI, the AI will take over Player 2’s role and will make decisions based on predeﬁned strategies. Single Player Mode: - The player competes against an AI agent. - The AI agent’s diﬃculty can be adjusted to make it more challenging. Example Game: ``` |   | X | O | -----------\n",
      "2024-09-07 10:48:55,190 - DEBUG - retrieve_data.py - Checking chunk_id: Tic Tac Toe_End_of_Game:_2\n",
      "2024-09-07 10:48:55,190 - DEBUG - retrieve_data.py - Found Section: End of Game, Chunk: Example Game: ``` |   | X | O | ----------- | X | O | X | O ----------- O |   | X ``` - In the above example, Player 1 (X) wins with a diagonal line.\n",
      "2024-09-07 10:48:55,191 - DEBUG - retrieve_data.py - Checking chunk_id: Tic Tac Toe_Game_Setup:_0\n",
      "2024-09-07 10:48:55,191 - DEBUG - retrieve_data.py - Found Section: Game Setup, Chunk: - The game is played on a 3x3 grid. - Player 1 uses the symbol \"X\" and Player 2 uses the symbol \"O\". - Players take turns placing their symbol in one of the empty squares on the grid.\n",
      "2024-09-07 10:48:55,192 - DEBUG - retrieve_data.py - Checking chunk_id: Tic Tac Toe_Game_Strategy:_0\n",
      "2024-09-07 10:48:55,192 - DEBUG - retrieve_data.py - Found Section: Game Strategy, Chunk: - First Move:  The center square is often considered the best opening move for Player 1, as it provides the most opportunities to create a winning combination. - Blocking:  If your opponent is close to winning (e.g., they have two in a row), you should place your symbol in the empty square to block\n",
      "2024-09-07 10:48:55,193 - DEBUG - retrieve_data.py - Checking chunk_id: Tic Tac Toe_Game_Strategy:_1\n",
      "2024-09-07 10:48:55,193 - DEBUG - retrieve_data.py - Found Section: Game Strategy, Chunk: place your symbol in the empty square to block their move. - Forks:  Creating a situation where you have two potential winning moves on your next turn is a strong strategy, as it forces your opponent to block one, allowing you to win with the other. Advanced Tactics: - Double Fork:  A situation\n",
      "2024-09-07 10:48:55,193 - DEBUG - retrieve_data.py - Checking chunk_id: Tic Tac Toe_Game_Strategy:_2\n",
      "2024-09-07 10:48:55,194 - DEBUG - retrieve_data.py - Found Section: Game Strategy, Chunk: Advanced Tactics: - Double Fork:  A situation where you create two forks simultaneously, making it impossible for your opponent to block both. - Center Control:  Maintaining control of the center square often leads to more winning opportunities.\n",
      "2024-09-07 10:48:55,194 - DEBUG - retrieve_data.py - Checking chunk_id: Tic Tac Toe_How_to_Play:_0\n",
      "2024-09-07 10:48:55,195 - DEBUG - retrieve_data.py - Found Section: How to Play, Chunk: 1. The game starts with an empty 3x3 grid. 2. Player 1 (X) makes the ﬁrst move by placing their symbol in any of the 9 squares. 3. Player 2 (O) then places their symbol in one of the remaining empty squares. 4. Players continue to alternate turns until one player achieves a winning combination or\n",
      "2024-09-07 10:48:55,196 - DEBUG - retrieve_data.py - Checking chunk_id: Tic Tac Toe_How_to_Play:_1\n",
      "2024-09-07 10:48:55,196 - DEBUG - retrieve_data.py - Found Section: How to Play, Chunk: one player achieves a winning combination or the grid is full.\n",
      "2024-09-07 10:48:55,196 - DEBUG - retrieve_data.py - Checking chunk_id: Tic Tac Toe_Overview:_0\n",
      "2024-09-07 10:48:55,197 - DEBUG - retrieve_data.py - Found Section: Overview, Chunk: Tic-Tac-Toe is a simple, two -player game where the objective is to be the ﬁrst player to align three of your marks (either X or O) in a horizontal, vertical, or diagonal row on a 3x3 grid.\n",
      "2024-09-07 10:48:55,197 - DEBUG - retrieve_data.py - Checking chunk_id: Tic Tac Toe_Winning_the_Game:_0\n",
      "2024-09-07 10:48:55,198 - DEBUG - retrieve_data.py - Found Section: Winning the Game, Chunk: - A player wins by placing three of their symbols in a row, which can be: - Horizontally: Any of the three horizontal rows. - Vertically: Any of the three vertical columns. - Diagonally: Either of the two diagonal lines from corner to corner.  Draw: - The game is considered a draw if all 9 squares\n",
      "2024-09-07 10:48:55,198 - DEBUG - retrieve_data.py - Checking chunk_id: Tic Tac Toe_Winning_the_Game:_1\n",
      "2024-09-07 10:48:55,199 - DEBUG - retrieve_data.py - Found Section: Winning the Game, Chunk: - The game is considered a draw if all 9 squares are ﬁlled and neither player has aligned three of their symbols in a row.\n",
      "2024-09-07 10:48:55,199 - INFO - retrieve_data.py - Final Response Structure: {'ID': 1, 'Game_Name': 'Tic Tac Toe', 'Overview': {'Text': 'Tic-Tac-Toe is a simple, two -player game where the objective is to be the ﬁrst player to align three of your marks (either X or O) in a horizontal, vertical, or diagonal row on a 3x3 grid.', 'Chunk_Text': ['Tic-Tac-Toe is a simple, two -player game where the objective is to be the ﬁrst player to align three of your marks (either X or O) in a horizontal, vertical, or diagonal row on a 3x3 grid.']}, 'Game Setup': {'Text': '- The game is played on a 3x3 grid. - Player 1 uses the symbol \"X\" and Player 2 uses the symbol \"O\". - Players take turns placing their symbol in one of the empty squares on the grid. ', 'Chunk_Text': ['- The game is played on a 3x3 grid. - Player 1 uses the symbol \"X\" and Player 2 uses the symbol \"O\". - Players take turns placing their symbol in one of the empty squares on the grid.']}, 'How to Play': {'Text': '1. The game starts with an empty 3x3 grid. 2. Player 1 (X) makes the ﬁrst move by placing their symbol in any of the 9 squares. 3. Player 2 (O) then places their symbol in one of the remaining empty squares. 4. Players continue to alternate turns until one player achieves a winning combination or the grid is full. ', 'Chunk_Text': ['1. The game starts with an empty 3x3 grid. 2. Player 1 (X) makes the ﬁrst move by placing their symbol in any of the 9 squares. 3. Player 2 (O) then places their symbol in one of the remaining empty squares. 4. Players continue to alternate turns until one player achieves a winning combination or', 'one player achieves a winning combination or the grid is full.']}, 'Winning the Game': {'Text': '- A player wins by placing three of their symbols in a row, which can be: - Horizontally: Any of the three horizontal rows. - Vertically: Any of the three vertical columns. - Diagonally: Either of the two diagonal lines from corner to corner.  Draw: - The game is considered a draw if all 9 squares are ﬁlled and neither player has aligned three of their symbols in a row.', 'Chunk_Text': ['- A player wins by placing three of their symbols in a row, which can be: - Horizontally: Any of the three horizontal rows. - Vertically: Any of the three vertical columns. - Diagonally: Either of the two diagonal lines from corner to corner.  Draw: - The game is considered a draw if all 9 squares', '- The game is considered a draw if all 9 squares are ﬁlled and neither player has aligned three of their symbols in a row.']}, 'Game Strategy': {'Text': '- First Move:  The center square is often considered the best opening move for Player 1, as it provides the most opportunities to create a winning combination. - Blocking:  If your opponent is close to winning (e.g., they have two in a row), you should place your symbol in the empty square to block their move. - Forks:  Creating a situation where you have two potential winning moves on your next turn is a strong strategy, as it forces your opponent to block one, allowing you to win with the other. Advanced Tactics: - Double Fork:  A situation where you create two forks simultaneously, making it impossible for your opponent to block both. - Center Control:  Maintaining control of the center square often leads to more winning opportunities. ', 'Chunk_Text': ['- First Move:  The center square is often considered the best opening move for Player 1, as it provides the most opportunities to create a winning combination. - Blocking:  If your opponent is close to winning (e.g., they have two in a row), you should place your symbol in the empty square to block', 'place your symbol in the empty square to block their move. - Forks:  Creating a situation where you have two potential winning moves on your next turn is a strong strategy, as it forces your opponent to block one, allowing you to win with the other. Advanced Tactics: - Double Fork:  A situation', 'Advanced Tactics: - Double Fork:  A situation where you create two forks simultaneously, making it impossible for your opponent to block both. - Center Control:  Maintaining control of the center square often leads to more winning opportunities.']}, 'End of Game': {'Text': '- The game ends when either a player wins or the grid is completely ﬁlled with no winner. - Players can choose to play multiple rounds and keep score of wins, losses, and draws. Multiplayer Mode: - In multiplayer mode, two human players alternate turns. - If playing against an AI, the AI will take over Player 2’s role and will make decisions based on predeﬁned strategies. Single Player Mode: - The player competes against an AI agent. - The AI agent’s diﬃculty can be adjusted to make it more challenging. Example Game: ``` |   | X | O | ----------- | X | O | X | O ----------- O |   | X ``` - In the above example, Player 1 (X) wins with a diagonal line.', 'Chunk_Text': ['- The game ends when either a player wins or the grid is completely ﬁlled with no winner. - Players can choose to play multiple rounds and keep score of wins, losses, and draws. Multiplayer Mode: - In multiplayer mode, two human players alternate turns. - If playing against an AI, the AI will take', '- If playing against an AI, the AI will take over Player 2’s role and will make decisions based on predeﬁned strategies. Single Player Mode: - The player competes against an AI agent. - The AI agent’s diﬃculty can be adjusted to make it more challenging. Example Game: ``` |   | X | O | -----------', 'Example Game: ``` |   | X | O | ----------- | X | O | X | O ----------- O |   | X ``` - In the above example, Player 1 (X) wins with a diagonal line.']}}\n",
      "2024-09-07 10:48:55,200 - DEBUG - retrieve_data.py - Metadata: {'ID': 1, 'Game_Name': 'Tic Tac Toe', 'Overview': {'Text': 'Tic-Tac-Toe is a simple, two -player game where the objective is to be the ﬁrst player to align three of your marks (either X or O) in a horizontal, vertical, or diagonal row on a 3x3 grid.', 'Chunk_Text': ['Tic-Tac-Toe is a simple, two -player game where the objective is to be the ﬁrst player to align three of your marks (either X or O) in a horizontal, vertical, or diagonal row on a 3x3 grid.']}, 'Game Setup': {'Text': '- The game is played on a 3x3 grid. - Player 1 uses the symbol \"X\" and Player 2 uses the symbol \"O\". - Players take turns placing their symbol in one of the empty squares on the grid. ', 'Chunk_Text': ['- The game is played on a 3x3 grid. - Player 1 uses the symbol \"X\" and Player 2 uses the symbol \"O\". - Players take turns placing their symbol in one of the empty squares on the grid.']}, 'How to Play': {'Text': '1. The game starts with an empty 3x3 grid. 2. Player 1 (X) makes the ﬁrst move by placing their symbol in any of the 9 squares. 3. Player 2 (O) then places their symbol in one of the remaining empty squares. 4. Players continue to alternate turns until one player achieves a winning combination or the grid is full. ', 'Chunk_Text': ['1. The game starts with an empty 3x3 grid. 2. Player 1 (X) makes the ﬁrst move by placing their symbol in any of the 9 squares. 3. Player 2 (O) then places their symbol in one of the remaining empty squares. 4. Players continue to alternate turns until one player achieves a winning combination or', 'one player achieves a winning combination or the grid is full.']}, 'Winning the Game': {'Text': '- A player wins by placing three of their symbols in a row, which can be: - Horizontally: Any of the three horizontal rows. - Vertically: Any of the three vertical columns. - Diagonally: Either of the two diagonal lines from corner to corner.  Draw: - The game is considered a draw if all 9 squares are ﬁlled and neither player has aligned three of their symbols in a row.', 'Chunk_Text': ['- A player wins by placing three of their symbols in a row, which can be: - Horizontally: Any of the three horizontal rows. - Vertically: Any of the three vertical columns. - Diagonally: Either of the two diagonal lines from corner to corner.  Draw: - The game is considered a draw if all 9 squares', '- The game is considered a draw if all 9 squares are ﬁlled and neither player has aligned three of their symbols in a row.']}, 'Game Strategy': {'Text': '- First Move:  The center square is often considered the best opening move for Player 1, as it provides the most opportunities to create a winning combination. - Blocking:  If your opponent is close to winning (e.g., they have two in a row), you should place your symbol in the empty square to block their move. - Forks:  Creating a situation where you have two potential winning moves on your next turn is a strong strategy, as it forces your opponent to block one, allowing you to win with the other. Advanced Tactics: - Double Fork:  A situation where you create two forks simultaneously, making it impossible for your opponent to block both. - Center Control:  Maintaining control of the center square often leads to more winning opportunities. ', 'Chunk_Text': ['- First Move:  The center square is often considered the best opening move for Player 1, as it provides the most opportunities to create a winning combination. - Blocking:  If your opponent is close to winning (e.g., they have two in a row), you should place your symbol in the empty square to block', 'place your symbol in the empty square to block their move. - Forks:  Creating a situation where you have two potential winning moves on your next turn is a strong strategy, as it forces your opponent to block one, allowing you to win with the other. Advanced Tactics: - Double Fork:  A situation', 'Advanced Tactics: - Double Fork:  A situation where you create two forks simultaneously, making it impossible for your opponent to block both. - Center Control:  Maintaining control of the center square often leads to more winning opportunities.']}, 'End of Game': {'Text': '- The game ends when either a player wins or the grid is completely ﬁlled with no winner. - Players can choose to play multiple rounds and keep score of wins, losses, and draws. Multiplayer Mode: - In multiplayer mode, two human players alternate turns. - If playing against an AI, the AI will take over Player 2’s role and will make decisions based on predeﬁned strategies. Single Player Mode: - The player competes against an AI agent. - The AI agent’s diﬃculty can be adjusted to make it more challenging. Example Game: ``` |   | X | O | ----------- | X | O | X | O ----------- O |   | X ``` - In the above example, Player 1 (X) wins with a diagonal line.', 'Chunk_Text': ['- The game ends when either a player wins or the grid is completely ﬁlled with no winner. - Players can choose to play multiple rounds and keep score of wins, losses, and draws. Multiplayer Mode: - In multiplayer mode, two human players alternate turns. - If playing against an AI, the AI will take', '- If playing against an AI, the AI will take over Player 2’s role and will make decisions based on predeﬁned strategies. Single Player Mode: - The player competes against an AI agent. - The AI agent’s diﬃculty can be adjusted to make it more challenging. Example Game: ``` |   | X | O | -----------', 'Example Game: ``` |   | X | O | ----------- | X | O | X | O ----------- O |   | X ``` - In the above example, Player 1 (X) wins with a diagonal line.']}}\n",
      "2024-09-07 10:48:55,200 - INFO - prompts.py - Starting code prompt generation...\n",
      "2024-09-07 10:48:55,200 - DEBUG - prompts.py - Overview: Tic-Tac-Toe is a simple, two -player game where the objective is to be the ﬁrst player to align thre...\n",
      "2024-09-07 10:48:55,201 - DEBUG - prompts.py - Game Setup: - The game is played on a 3x3 grid. - Player 1 uses the symbol \"X\" and Player 2 uses the symbol \"O\"....\n",
      "2024-09-07 10:48:55,201 - DEBUG - prompts.py - How to Play: 1. The game starts with an empty 3x3 grid. 2. Player 1 (X) makes the ﬁrst move by placing their symb...\n",
      "2024-09-07 10:48:55,202 - DEBUG - prompts.py - Winning the Game: - A player wins by placing three of their symbols in a row, which can be: - Horizontally: Any of the...\n",
      "2024-09-07 10:48:55,202 - DEBUG - prompts.py - Game Strategy: - First Move:  The center square is often considered the best opening move for Player 1, as it provi...\n",
      "2024-09-07 10:48:55,202 - DEBUG - prompts.py - End of Game: - The game ends when either a player wins or the grid is completely ﬁlled with no winner. - Players ...\n",
      "2024-09-07 10:48:55,203 - INFO - prompts.py - Code prompt generated successfully.\n",
      "2024-09-07 10:48:55,203 - INFO - retrieve_data.py - Generated code prompt successfully.\n",
      "2024-09-07 10:48:55,204 - DEBUG - retrieve_data.py - Prompt: \n",
      "    You are a Python expert and you are tasked with generating the code for a game. Here are the components of the game:\n",
      "\n",
      "    Overview: Tic-Tac-Toe is a simple, two -player game where the objective is to be the ﬁrst player to align three of your marks (either X or O) in a horizontal, vertical, or diagonal row on a 3x3 grid.\n",
      "    Game Setup: - The game is played on a 3x3 grid. - Player 1 uses the symbol \"X\" and Player 2 uses the symbol \"O\". - Players take turns placing their symbol in one of the empty squares on the grid. \n",
      "    How to Play: 1. The game starts with an empty 3x3 grid. 2. Player 1 (X) makes the ﬁrst move by placing their symbol in any of the 9 squares. 3. Player 2 (O) then places their symbol in one of the remaining empty squares. 4. Players continue to alternate turns until one player achieves a winning combination or the grid is full. \n",
      "    Winning the Game: - A player wins by placing three of their symbols in a row, which can be: - Horizontally: Any of the three horizontal rows. - Vertically: Any of the three vertical columns. - Diagonally: Either of the two diagonal lines from corner to corner.  Draw: - The game is considered a draw if all 9 squares are ﬁlled and neither player has aligned three of their symbols in a row.\n",
      "    Game Strategy: - First Move:  The center square is often considered the best opening move for Player 1, as it provides the most opportunities to create a winning combination. - Blocking:  If your opponent is close to winning (e.g., they have two in a row), you should place your symbol in the empty square to block their move. - Forks:  Creating a situation where you have two potential winning moves on your next turn is a strong strategy, as it forces your opponent to block one, allowing you to win with the other. Advanced Tactics: - Double Fork:  A situation where you create two forks simultaneously, making it impossible for your opponent to block both. - Center Control:  Maintaining control of the center square often leads to more winning opportunities. \n",
      "    End of Game: - The game ends when either a player wins or the grid is completely ﬁlled with no winner. - Players can choose to play multiple rounds and keep score of wins, losses, and draws. Multiplayer Mode: - In multiplayer mode, two human players alternate turns. - If playing against an AI, the AI will take over Player 2’s role and will make decisions based on predeﬁned strategies. Single Player Mode: - The player competes against an AI agent. - The AI agent’s diﬃculty can be adjusted to make it more challenging. Example Game: ``` |   | X | O | ----------- | X | O | X | O ----------- O |   | X ``` - In the above example, Player 1 (X) wins with a diagonal line.\n",
      "\n",
      "    Based on the above information, generate the Python code for this game. Make sure the game is functional and can be played in a terminal or web interface.\n",
      "    \n"
     ]
    },
    {
     "name": "stdout",
     "output_type": "stream",
     "text": [
      "Model and tokenizer for 'dunzhang/stella_en_1.5B_v5' initialized successfully.\n"
     ]
    }
   ],
   "source": [
    "from src.rag.retrieve_data import RAGRetriever\n",
    "retriever = RAGRetriever()\n",
    "code_prompt = retriever.get_metadata_prompt(1)"
   ]
  },
  {
   "cell_type": "code",
   "execution_count": 8,
   "metadata": {},
   "outputs": [
    {
     "name": "stdout",
     "output_type": "stream",
     "text": [
      "\n",
      "    You are a Python expert and you are tasked with generating the code for a game. Here are the components of the game:\n",
      "\n",
      "    Overview: Tic-Tac-Toe is a simple, two -player game where the objective is to be the ﬁrst player to align three of your marks (either X or O) in a horizontal, vertical, or diagonal row on a 3x3 grid.\n",
      "    Game Setup: - The game is played on a 3x3 grid. - Player 1 uses the symbol \"X\" and Player 2 uses the symbol \"O\". - Players take turns placing their symbol in one of the empty squares on the grid. \n",
      "    How to Play: 1. The game starts with an empty 3x3 grid. 2. Player 1 (X) makes the ﬁrst move by placing their symbol in any of the 9 squares. 3. Player 2 (O) then places their symbol in one of the remaining empty squares. 4. Players continue to alternate turns until one player achieves a winning combination or the grid is full. \n",
      "    Winning the Game: - A player wins by placing three of their symbols in a row, which can be: - Horizontally: Any of the three horizontal rows. - Vertically: Any of the three vertical columns. - Diagonally: Either of the two diagonal lines from corner to corner.  Draw: - The game is considered a draw if all 9 squares are ﬁlled and neither player has aligned three of their symbols in a row.\n",
      "    Game Strategy: - First Move:  The center square is often considered the best opening move for Player 1, as it provides the most opportunities to create a winning combination. - Blocking:  If your opponent is close to winning (e.g., they have two in a row), you should place your symbol in the empty square to block their move. - Forks:  Creating a situation where you have two potential winning moves on your next turn is a strong strategy, as it forces your opponent to block one, allowing you to win with the other. Advanced Tactics: - Double Fork:  A situation where you create two forks simultaneously, making it impossible for your opponent to block both. - Center Control:  Maintaining control of the center square often leads to more winning opportunities. \n",
      "    End of Game: - The game ends when either a player wins or the grid is completely ﬁlled with no winner. - Players can choose to play multiple rounds and keep score of wins, losses, and draws. Multiplayer Mode: - In multiplayer mode, two human players alternate turns. - If playing against an AI, the AI will take over Player 2’s role and will make decisions based on predeﬁned strategies. Single Player Mode: - The player competes against an AI agent. - The AI agent’s diﬃculty can be adjusted to make it more challenging. Example Game: ``` |   | X | O | ----------- | X | O | X | O ----------- O |   | X ``` - In the above example, Player 1 (X) wins with a diagonal line.\n",
      "\n",
      "    Based on the above information, generate the Python code for this game. Make sure the game is functional and can be played in a terminal or web interface.\n",
      "    \n"
     ]
    },
    {
     "name": "stderr",
     "output_type": "stream",
     "text": [
      "2024-09-07 10:48:55,264 - DEBUG - connectionpool.py - https://us.i.posthog.com:443 \"POST /batch/ HTTP/11\" 200 15\n"
     ]
    }
   ],
   "source": [
    "print(code_prompt)"
   ]
  },
  {
   "cell_type": "code",
   "execution_count": null,
   "metadata": {},
   "outputs": [],
   "source": []
  }
 ],
 "metadata": {
  "kernelspec": {
   "display_name": "Python 3",
   "language": "python",
   "name": "python3"
  },
  "language_info": {
   "codemirror_mode": {
    "name": "ipython",
    "version": 3
   },
   "file_extension": ".py",
   "mimetype": "text/x-python",
   "name": "python",
   "nbconvert_exporter": "python",
   "pygments_lexer": "ipython3",
   "version": "3.11.9"
  }
 },
 "nbformat": 4,
 "nbformat_minor": 2
}
